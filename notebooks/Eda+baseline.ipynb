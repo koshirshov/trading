{
 "cells": [
  {
   "cell_type": "code",
   "execution_count": 1,
   "metadata": {},
   "outputs": [],
   "source": [
    "import pandas as pd\n",
    "import numpy as np"
   ]
  },
  {
   "cell_type": "code",
   "execution_count": 2,
   "metadata": {},
   "outputs": [],
   "source": [
    "btc_data = pd.read_csv('../../btc_data.csv')\n",
    "btc_1h_data = pd.read_csv('../../btc_1h_data.csv')"
   ]
  },
  {
   "cell_type": "code",
   "execution_count": 3,
   "metadata": {},
   "outputs": [
    {
     "data": {
      "text/html": [
       "<div>\n",
       "<style scoped>\n",
       "    .dataframe tbody tr th:only-of-type {\n",
       "        vertical-align: middle;\n",
       "    }\n",
       "\n",
       "    .dataframe tbody tr th {\n",
       "        vertical-align: top;\n",
       "    }\n",
       "\n",
       "    .dataframe thead th {\n",
       "        text-align: right;\n",
       "    }\n",
       "</style>\n",
       "<table border=\"1\" class=\"dataframe\">\n",
       "  <thead>\n",
       "    <tr style=\"text-align: right;\">\n",
       "      <th></th>\n",
       "      <th>Timestamp</th>\n",
       "      <th>Date</th>\n",
       "      <th>Time</th>\n",
       "      <th>Open</th>\n",
       "      <th>High</th>\n",
       "      <th>Low</th>\n",
       "      <th>Close</th>\n",
       "      <th>Volume</th>\n",
       "    </tr>\n",
       "  </thead>\n",
       "  <tbody>\n",
       "    <tr>\n",
       "      <th>0</th>\n",
       "      <td>2023-01-15 00:00:00</td>\n",
       "      <td>15/01/2023</td>\n",
       "      <td>00:00:00</td>\n",
       "      <td>20876.31</td>\n",
       "      <td>20898.00</td>\n",
       "      <td>20872.22</td>\n",
       "      <td>20887.33</td>\n",
       "      <td>192.84874</td>\n",
       "    </tr>\n",
       "    <tr>\n",
       "      <th>1</th>\n",
       "      <td>2023-01-15 00:01:00</td>\n",
       "      <td>15/01/2023</td>\n",
       "      <td>00:01:00</td>\n",
       "      <td>20887.33</td>\n",
       "      <td>20889.78</td>\n",
       "      <td>20875.34</td>\n",
       "      <td>20881.24</td>\n",
       "      <td>122.27002</td>\n",
       "    </tr>\n",
       "    <tr>\n",
       "      <th>2</th>\n",
       "      <td>2023-01-15 00:02:00</td>\n",
       "      <td>15/01/2023</td>\n",
       "      <td>00:02:00</td>\n",
       "      <td>20882.40</td>\n",
       "      <td>20884.02</td>\n",
       "      <td>20872.97</td>\n",
       "      <td>20874.46</td>\n",
       "      <td>64.88027</td>\n",
       "    </tr>\n",
       "    <tr>\n",
       "      <th>3</th>\n",
       "      <td>2023-01-15 00:03:00</td>\n",
       "      <td>15/01/2023</td>\n",
       "      <td>00:03:00</td>\n",
       "      <td>20873.41</td>\n",
       "      <td>20875.87</td>\n",
       "      <td>20863.02</td>\n",
       "      <td>20864.59</td>\n",
       "      <td>126.67576</td>\n",
       "    </tr>\n",
       "    <tr>\n",
       "      <th>4</th>\n",
       "      <td>2023-01-15 00:04:00</td>\n",
       "      <td>15/01/2023</td>\n",
       "      <td>00:04:00</td>\n",
       "      <td>20865.61</td>\n",
       "      <td>20867.27</td>\n",
       "      <td>20827.31</td>\n",
       "      <td>20844.88</td>\n",
       "      <td>309.61303</td>\n",
       "    </tr>\n",
       "  </tbody>\n",
       "</table>\n",
       "</div>"
      ],
      "text/plain": [
       "             Timestamp        Date      Time      Open      High       Low  \\\n",
       "0  2023-01-15 00:00:00  15/01/2023  00:00:00  20876.31  20898.00  20872.22   \n",
       "1  2023-01-15 00:01:00  15/01/2023  00:01:00  20887.33  20889.78  20875.34   \n",
       "2  2023-01-15 00:02:00  15/01/2023  00:02:00  20882.40  20884.02  20872.97   \n",
       "3  2023-01-15 00:03:00  15/01/2023  00:03:00  20873.41  20875.87  20863.02   \n",
       "4  2023-01-15 00:04:00  15/01/2023  00:04:00  20865.61  20867.27  20827.31   \n",
       "\n",
       "      Close     Volume  \n",
       "0  20887.33  192.84874  \n",
       "1  20881.24  122.27002  \n",
       "2  20874.46   64.88027  \n",
       "3  20864.59  126.67576  \n",
       "4  20844.88  309.61303  "
      ]
     },
     "execution_count": 3,
     "metadata": {},
     "output_type": "execute_result"
    }
   ],
   "source": [
    "btc_data.head()"
   ]
  },
  {
   "cell_type": "code",
   "execution_count": 4,
   "metadata": {},
   "outputs": [
    {
     "data": {
      "text/html": [
       "<div>\n",
       "<style scoped>\n",
       "    .dataframe tbody tr th:only-of-type {\n",
       "        vertical-align: middle;\n",
       "    }\n",
       "\n",
       "    .dataframe tbody tr th {\n",
       "        vertical-align: top;\n",
       "    }\n",
       "\n",
       "    .dataframe thead th {\n",
       "        text-align: right;\n",
       "    }\n",
       "</style>\n",
       "<table border=\"1\" class=\"dataframe\">\n",
       "  <thead>\n",
       "    <tr style=\"text-align: right;\">\n",
       "      <th></th>\n",
       "      <th>Unnamed: 0</th>\n",
       "      <th>open_time</th>\n",
       "      <th>open</th>\n",
       "      <th>high</th>\n",
       "      <th>low</th>\n",
       "      <th>close</th>\n",
       "      <th>volume</th>\n",
       "      <th>close_time</th>\n",
       "      <th>qav</th>\n",
       "      <th>num_trades</th>\n",
       "      <th>taker_base_vol</th>\n",
       "      <th>taker_quote_vol</th>\n",
       "      <th>ignore</th>\n",
       "    </tr>\n",
       "  </thead>\n",
       "  <tbody>\n",
       "    <tr>\n",
       "      <th>0</th>\n",
       "      <td>2022-01-01 00:00:00</td>\n",
       "      <td>1.640995e+12</td>\n",
       "      <td>46216.93</td>\n",
       "      <td>46731.39</td>\n",
       "      <td>46208.37</td>\n",
       "      <td>46656.13</td>\n",
       "      <td>1503.33095</td>\n",
       "      <td>1.640999e+12</td>\n",
       "      <td>6.987999e+07</td>\n",
       "      <td>38608.0</td>\n",
       "      <td>806.06536</td>\n",
       "      <td>3.746216e+07</td>\n",
       "      <td>0.0</td>\n",
       "    </tr>\n",
       "    <tr>\n",
       "      <th>1</th>\n",
       "      <td>2022-01-01 01:00:00</td>\n",
       "      <td>1.640999e+12</td>\n",
       "      <td>46656.14</td>\n",
       "      <td>46949.99</td>\n",
       "      <td>46574.06</td>\n",
       "      <td>46778.14</td>\n",
       "      <td>943.81539</td>\n",
       "      <td>1.641002e+12</td>\n",
       "      <td>4.412715e+07</td>\n",
       "      <td>31872.0</td>\n",
       "      <td>491.18067</td>\n",
       "      <td>2.296327e+07</td>\n",
       "      <td>0.0</td>\n",
       "    </tr>\n",
       "    <tr>\n",
       "      <th>2</th>\n",
       "      <td>2022-01-01 02:00:00</td>\n",
       "      <td>1.641002e+12</td>\n",
       "      <td>46778.14</td>\n",
       "      <td>46928.94</td>\n",
       "      <td>46721.96</td>\n",
       "      <td>46811.77</td>\n",
       "      <td>485.16860</td>\n",
       "      <td>1.641006e+12</td>\n",
       "      <td>2.272067e+07</td>\n",
       "      <td>24364.0</td>\n",
       "      <td>206.35113</td>\n",
       "      <td>9.662607e+06</td>\n",
       "      <td>0.0</td>\n",
       "    </tr>\n",
       "    <tr>\n",
       "      <th>3</th>\n",
       "      <td>2022-01-01 03:00:00</td>\n",
       "      <td>1.641006e+12</td>\n",
       "      <td>46811.77</td>\n",
       "      <td>46916.63</td>\n",
       "      <td>46760.12</td>\n",
       "      <td>46813.20</td>\n",
       "      <td>562.88971</td>\n",
       "      <td>1.641010e+12</td>\n",
       "      <td>2.636326e+07</td>\n",
       "      <td>19882.0</td>\n",
       "      <td>248.28212</td>\n",
       "      <td>1.162938e+07</td>\n",
       "      <td>0.0</td>\n",
       "    </tr>\n",
       "    <tr>\n",
       "      <th>4</th>\n",
       "      <td>2022-01-01 04:00:00</td>\n",
       "      <td>1.641010e+12</td>\n",
       "      <td>46813.21</td>\n",
       "      <td>46887.33</td>\n",
       "      <td>46591.23</td>\n",
       "      <td>46711.05</td>\n",
       "      <td>861.88389</td>\n",
       "      <td>1.641013e+12</td>\n",
       "      <td>4.027204e+07</td>\n",
       "      <td>23357.0</td>\n",
       "      <td>397.53563</td>\n",
       "      <td>1.857540e+07</td>\n",
       "      <td>0.0</td>\n",
       "    </tr>\n",
       "  </tbody>\n",
       "</table>\n",
       "</div>"
      ],
      "text/plain": [
       "            Unnamed: 0     open_time      open      high       low     close  \\\n",
       "0  2022-01-01 00:00:00  1.640995e+12  46216.93  46731.39  46208.37  46656.13   \n",
       "1  2022-01-01 01:00:00  1.640999e+12  46656.14  46949.99  46574.06  46778.14   \n",
       "2  2022-01-01 02:00:00  1.641002e+12  46778.14  46928.94  46721.96  46811.77   \n",
       "3  2022-01-01 03:00:00  1.641006e+12  46811.77  46916.63  46760.12  46813.20   \n",
       "4  2022-01-01 04:00:00  1.641010e+12  46813.21  46887.33  46591.23  46711.05   \n",
       "\n",
       "       volume    close_time           qav  num_trades  taker_base_vol  \\\n",
       "0  1503.33095  1.640999e+12  6.987999e+07     38608.0       806.06536   \n",
       "1   943.81539  1.641002e+12  4.412715e+07     31872.0       491.18067   \n",
       "2   485.16860  1.641006e+12  2.272067e+07     24364.0       206.35113   \n",
       "3   562.88971  1.641010e+12  2.636326e+07     19882.0       248.28212   \n",
       "4   861.88389  1.641013e+12  4.027204e+07     23357.0       397.53563   \n",
       "\n",
       "   taker_quote_vol  ignore  \n",
       "0     3.746216e+07     0.0  \n",
       "1     2.296327e+07     0.0  \n",
       "2     9.662607e+06     0.0  \n",
       "3     1.162938e+07     0.0  \n",
       "4     1.857540e+07     0.0  "
      ]
     },
     "execution_count": 4,
     "metadata": {},
     "output_type": "execute_result"
    }
   ],
   "source": [
    "btc_1h_data.head()"
   ]
  },
  {
   "cell_type": "code",
   "execution_count": 5,
   "metadata": {},
   "outputs": [
    {
     "data": {
      "text/plain": [
       "(403121, 8)"
      ]
     },
     "execution_count": 5,
     "metadata": {},
     "output_type": "execute_result"
    }
   ],
   "source": [
    "btc_data.shape"
   ]
  },
  {
   "cell_type": "code",
   "execution_count": 6,
   "metadata": {},
   "outputs": [
    {
     "name": "stdout",
     "output_type": "stream",
     "text": [
      "<class 'pandas.core.frame.DataFrame'>\n",
      "RangeIndex: 403121 entries, 0 to 403120\n",
      "Data columns (total 8 columns):\n",
      " #   Column     Non-Null Count   Dtype  \n",
      "---  ------     --------------   -----  \n",
      " 0   Timestamp  403121 non-null  object \n",
      " 1   Date       403121 non-null  object \n",
      " 2   Time       403121 non-null  object \n",
      " 3   Open       403121 non-null  float64\n",
      " 4   High       403121 non-null  float64\n",
      " 5   Low        403121 non-null  float64\n",
      " 6   Close      403121 non-null  float64\n",
      " 7   Volume     403121 non-null  float64\n",
      "dtypes: float64(5), object(3)\n",
      "memory usage: 24.6+ MB\n"
     ]
    }
   ],
   "source": [
    "btc_data.info()"
   ]
  },
  {
   "cell_type": "code",
   "execution_count": 7,
   "metadata": {},
   "outputs": [
    {
     "data": {
      "text/plain": [
       "('2023-01-15 00:00:00', '2023-10-22 00:00:00')"
      ]
     },
     "execution_count": 7,
     "metadata": {},
     "output_type": "execute_result"
    }
   ],
   "source": [
    "btc_data['Timestamp'].min(), btc_data['Timestamp'].max()"
   ]
  },
  {
   "cell_type": "code",
   "execution_count": 8,
   "metadata": {},
   "outputs": [],
   "source": [
    "date_format = '%Y-%m-%d %H:%M:%S'"
   ]
  },
  {
   "cell_type": "code",
   "execution_count": 9,
   "metadata": {},
   "outputs": [],
   "source": [
    "features = ['Timestamp', 'Open', \"High\", \"Low\", \"Close\", \"Volume\"]\n",
    "X = btc_data[features].copy(deep=True)\n",
    "X['Timestamp'] = pd.to_datetime(X['Timestamp'], format=date_format)"
   ]
  },
  {
   "cell_type": "code",
   "execution_count": 10,
   "metadata": {},
   "outputs": [
    {
     "data": {
      "text/html": [
       "<div>\n",
       "<style scoped>\n",
       "    .dataframe tbody tr th:only-of-type {\n",
       "        vertical-align: middle;\n",
       "    }\n",
       "\n",
       "    .dataframe tbody tr th {\n",
       "        vertical-align: top;\n",
       "    }\n",
       "\n",
       "    .dataframe thead th {\n",
       "        text-align: right;\n",
       "    }\n",
       "</style>\n",
       "<table border=\"1\" class=\"dataframe\">\n",
       "  <thead>\n",
       "    <tr style=\"text-align: right;\">\n",
       "      <th></th>\n",
       "      <th>Timestamp</th>\n",
       "      <th>Open</th>\n",
       "      <th>High</th>\n",
       "      <th>Low</th>\n",
       "      <th>Close</th>\n",
       "      <th>Volume</th>\n",
       "    </tr>\n",
       "  </thead>\n",
       "  <tbody>\n",
       "    <tr>\n",
       "      <th>0</th>\n",
       "      <td>2023-01-15 00:00:00</td>\n",
       "      <td>20876.31</td>\n",
       "      <td>20898.00</td>\n",
       "      <td>20872.22</td>\n",
       "      <td>20887.33</td>\n",
       "      <td>192.84874</td>\n",
       "    </tr>\n",
       "    <tr>\n",
       "      <th>1</th>\n",
       "      <td>2023-01-15 00:01:00</td>\n",
       "      <td>20887.33</td>\n",
       "      <td>20889.78</td>\n",
       "      <td>20875.34</td>\n",
       "      <td>20881.24</td>\n",
       "      <td>122.27002</td>\n",
       "    </tr>\n",
       "    <tr>\n",
       "      <th>2</th>\n",
       "      <td>2023-01-15 00:02:00</td>\n",
       "      <td>20882.40</td>\n",
       "      <td>20884.02</td>\n",
       "      <td>20872.97</td>\n",
       "      <td>20874.46</td>\n",
       "      <td>64.88027</td>\n",
       "    </tr>\n",
       "    <tr>\n",
       "      <th>3</th>\n",
       "      <td>2023-01-15 00:03:00</td>\n",
       "      <td>20873.41</td>\n",
       "      <td>20875.87</td>\n",
       "      <td>20863.02</td>\n",
       "      <td>20864.59</td>\n",
       "      <td>126.67576</td>\n",
       "    </tr>\n",
       "    <tr>\n",
       "      <th>4</th>\n",
       "      <td>2023-01-15 00:04:00</td>\n",
       "      <td>20865.61</td>\n",
       "      <td>20867.27</td>\n",
       "      <td>20827.31</td>\n",
       "      <td>20844.88</td>\n",
       "      <td>309.61303</td>\n",
       "    </tr>\n",
       "  </tbody>\n",
       "</table>\n",
       "</div>"
      ],
      "text/plain": [
       "            Timestamp      Open      High       Low     Close     Volume\n",
       "0 2023-01-15 00:00:00  20876.31  20898.00  20872.22  20887.33  192.84874\n",
       "1 2023-01-15 00:01:00  20887.33  20889.78  20875.34  20881.24  122.27002\n",
       "2 2023-01-15 00:02:00  20882.40  20884.02  20872.97  20874.46   64.88027\n",
       "3 2023-01-15 00:03:00  20873.41  20875.87  20863.02  20864.59  126.67576\n",
       "4 2023-01-15 00:04:00  20865.61  20867.27  20827.31  20844.88  309.61303"
      ]
     },
     "execution_count": 10,
     "metadata": {},
     "output_type": "execute_result"
    }
   ],
   "source": [
    "X.head()"
   ]
  },
  {
   "cell_type": "code",
   "execution_count": 11,
   "metadata": {},
   "outputs": [],
   "source": [
    "# for i in range(X.shape[0] - 1):\n",
    "#     if X.Timestamp.iloc[i] > X.Timestamp.iloc[i + 1]:\n",
    "#         break\n",
    "#         print('Non monotonic')\n",
    "    \n",
    "#     if (X.Timestamp.iloc[i + 1] -X.Timestamp.iloc[i]) != timedelta(minutes=1):\n",
    "#         break\n",
    "#         print('Non monotonic')"
   ]
  },
  {
   "cell_type": "code",
   "execution_count": 12,
   "metadata": {},
   "outputs": [
    {
     "data": {
      "text/html": [
       "<div>\n",
       "<style scoped>\n",
       "    .dataframe tbody tr th:only-of-type {\n",
       "        vertical-align: middle;\n",
       "    }\n",
       "\n",
       "    .dataframe tbody tr th {\n",
       "        vertical-align: top;\n",
       "    }\n",
       "\n",
       "    .dataframe thead th {\n",
       "        text-align: right;\n",
       "    }\n",
       "</style>\n",
       "<table border=\"1\" class=\"dataframe\">\n",
       "  <thead>\n",
       "    <tr style=\"text-align: right;\">\n",
       "      <th></th>\n",
       "      <th>Timestamp</th>\n",
       "      <th>Open</th>\n",
       "      <th>Open_1min_before</th>\n",
       "      <th>High_1min_before</th>\n",
       "      <th>Low_1min_before</th>\n",
       "      <th>Close_1min_before</th>\n",
       "      <th>Volume_1min_before</th>\n",
       "      <th>Open_2min_before</th>\n",
       "      <th>High_2min_before</th>\n",
       "      <th>Low_2min_before</th>\n",
       "      <th>...</th>\n",
       "      <th>Open_4min_before</th>\n",
       "      <th>High_4min_before</th>\n",
       "      <th>Low_4min_before</th>\n",
       "      <th>Close_4min_before</th>\n",
       "      <th>Volume_4min_before</th>\n",
       "      <th>Open_5min_before</th>\n",
       "      <th>High_5min_before</th>\n",
       "      <th>Low_5min_before</th>\n",
       "      <th>Close_5min_before</th>\n",
       "      <th>Volume_5min_before</th>\n",
       "    </tr>\n",
       "  </thead>\n",
       "  <tbody>\n",
       "    <tr>\n",
       "      <th>5</th>\n",
       "      <td>2023-01-15 00:05:00</td>\n",
       "      <td>20843.72</td>\n",
       "      <td>20865.61</td>\n",
       "      <td>20867.27</td>\n",
       "      <td>20827.31</td>\n",
       "      <td>20844.88</td>\n",
       "      <td>309.61303</td>\n",
       "      <td>20873.41</td>\n",
       "      <td>20875.87</td>\n",
       "      <td>20863.02</td>\n",
       "      <td>...</td>\n",
       "      <td>20887.33</td>\n",
       "      <td>20889.78</td>\n",
       "      <td>20875.34</td>\n",
       "      <td>20881.24</td>\n",
       "      <td>122.27002</td>\n",
       "      <td>20876.31</td>\n",
       "      <td>20898.00</td>\n",
       "      <td>20872.22</td>\n",
       "      <td>20887.33</td>\n",
       "      <td>192.84874</td>\n",
       "    </tr>\n",
       "    <tr>\n",
       "      <th>6</th>\n",
       "      <td>2023-01-15 00:06:00</td>\n",
       "      <td>20866.37</td>\n",
       "      <td>20843.72</td>\n",
       "      <td>20870.53</td>\n",
       "      <td>20828.28</td>\n",
       "      <td>20866.37</td>\n",
       "      <td>179.98974</td>\n",
       "      <td>20865.61</td>\n",
       "      <td>20867.27</td>\n",
       "      <td>20827.31</td>\n",
       "      <td>...</td>\n",
       "      <td>20882.40</td>\n",
       "      <td>20884.02</td>\n",
       "      <td>20872.97</td>\n",
       "      <td>20874.46</td>\n",
       "      <td>64.88027</td>\n",
       "      <td>20887.33</td>\n",
       "      <td>20889.78</td>\n",
       "      <td>20875.34</td>\n",
       "      <td>20881.24</td>\n",
       "      <td>122.27002</td>\n",
       "    </tr>\n",
       "    <tr>\n",
       "      <th>7</th>\n",
       "      <td>2023-01-15 00:07:00</td>\n",
       "      <td>20911.06</td>\n",
       "      <td>20866.37</td>\n",
       "      <td>20927.83</td>\n",
       "      <td>20859.64</td>\n",
       "      <td>20911.12</td>\n",
       "      <td>481.11856</td>\n",
       "      <td>20843.72</td>\n",
       "      <td>20870.53</td>\n",
       "      <td>20828.28</td>\n",
       "      <td>...</td>\n",
       "      <td>20873.41</td>\n",
       "      <td>20875.87</td>\n",
       "      <td>20863.02</td>\n",
       "      <td>20864.59</td>\n",
       "      <td>126.67576</td>\n",
       "      <td>20882.40</td>\n",
       "      <td>20884.02</td>\n",
       "      <td>20872.97</td>\n",
       "      <td>20874.46</td>\n",
       "      <td>64.88027</td>\n",
       "    </tr>\n",
       "    <tr>\n",
       "      <th>8</th>\n",
       "      <td>2023-01-15 00:08:00</td>\n",
       "      <td>20891.43</td>\n",
       "      <td>20911.06</td>\n",
       "      <td>20911.06</td>\n",
       "      <td>20886.84</td>\n",
       "      <td>20890.85</td>\n",
       "      <td>196.06623</td>\n",
       "      <td>20866.37</td>\n",
       "      <td>20927.83</td>\n",
       "      <td>20859.64</td>\n",
       "      <td>...</td>\n",
       "      <td>20865.61</td>\n",
       "      <td>20867.27</td>\n",
       "      <td>20827.31</td>\n",
       "      <td>20844.88</td>\n",
       "      <td>309.61303</td>\n",
       "      <td>20873.41</td>\n",
       "      <td>20875.87</td>\n",
       "      <td>20863.02</td>\n",
       "      <td>20864.59</td>\n",
       "      <td>126.67576</td>\n",
       "    </tr>\n",
       "    <tr>\n",
       "      <th>9</th>\n",
       "      <td>2023-01-15 00:09:00</td>\n",
       "      <td>20894.10</td>\n",
       "      <td>20891.43</td>\n",
       "      <td>20904.68</td>\n",
       "      <td>20889.55</td>\n",
       "      <td>20894.10</td>\n",
       "      <td>104.67781</td>\n",
       "      <td>20911.06</td>\n",
       "      <td>20911.06</td>\n",
       "      <td>20886.84</td>\n",
       "      <td>...</td>\n",
       "      <td>20843.72</td>\n",
       "      <td>20870.53</td>\n",
       "      <td>20828.28</td>\n",
       "      <td>20866.37</td>\n",
       "      <td>179.98974</td>\n",
       "      <td>20865.61</td>\n",
       "      <td>20867.27</td>\n",
       "      <td>20827.31</td>\n",
       "      <td>20844.88</td>\n",
       "      <td>309.61303</td>\n",
       "    </tr>\n",
       "  </tbody>\n",
       "</table>\n",
       "<p>5 rows × 27 columns</p>\n",
       "</div>"
      ],
      "text/plain": [
       "            Timestamp      Open  Open_1min_before  High_1min_before  \\\n",
       "5 2023-01-15 00:05:00  20843.72          20865.61          20867.27   \n",
       "6 2023-01-15 00:06:00  20866.37          20843.72          20870.53   \n",
       "7 2023-01-15 00:07:00  20911.06          20866.37          20927.83   \n",
       "8 2023-01-15 00:08:00  20891.43          20911.06          20911.06   \n",
       "9 2023-01-15 00:09:00  20894.10          20891.43          20904.68   \n",
       "\n",
       "   Low_1min_before  Close_1min_before  Volume_1min_before  Open_2min_before  \\\n",
       "5         20827.31           20844.88           309.61303          20873.41   \n",
       "6         20828.28           20866.37           179.98974          20865.61   \n",
       "7         20859.64           20911.12           481.11856          20843.72   \n",
       "8         20886.84           20890.85           196.06623          20866.37   \n",
       "9         20889.55           20894.10           104.67781          20911.06   \n",
       "\n",
       "   High_2min_before  Low_2min_before  ...  Open_4min_before  High_4min_before  \\\n",
       "5          20875.87         20863.02  ...          20887.33          20889.78   \n",
       "6          20867.27         20827.31  ...          20882.40          20884.02   \n",
       "7          20870.53         20828.28  ...          20873.41          20875.87   \n",
       "8          20927.83         20859.64  ...          20865.61          20867.27   \n",
       "9          20911.06         20886.84  ...          20843.72          20870.53   \n",
       "\n",
       "   Low_4min_before  Close_4min_before  Volume_4min_before  Open_5min_before  \\\n",
       "5         20875.34           20881.24           122.27002          20876.31   \n",
       "6         20872.97           20874.46            64.88027          20887.33   \n",
       "7         20863.02           20864.59           126.67576          20882.40   \n",
       "8         20827.31           20844.88           309.61303          20873.41   \n",
       "9         20828.28           20866.37           179.98974          20865.61   \n",
       "\n",
       "   High_5min_before  Low_5min_before  Close_5min_before  Volume_5min_before  \n",
       "5          20898.00         20872.22           20887.33           192.84874  \n",
       "6          20889.78         20875.34           20881.24           122.27002  \n",
       "7          20884.02         20872.97           20874.46            64.88027  \n",
       "8          20875.87         20863.02           20864.59           126.67576  \n",
       "9          20867.27         20827.31           20844.88           309.61303  \n",
       "\n",
       "[5 rows x 27 columns]"
      ]
     },
     "execution_count": 12,
     "metadata": {},
     "output_type": "execute_result"
    }
   ],
   "source": [
    "def create_features_from_previos_5_min(X):\n",
    "    \"\"\"X is increasing by timestamp\"\"\"\n",
    "    for i in range(1, 6):\n",
    "        for feature in ['Open', \"High\", \"Low\", \"Close\", \"Volume\"]:\n",
    "            X[f'{feature}_{i}min_before'] = X[feature].shift(i)\n",
    "    return X\n",
    "X = create_features_from_previos_5_min(X)\n",
    "X = X.dropna()\n",
    "y = X['Close'].copy(deep=True)\n",
    "X = X.drop(columns=['Close', 'High', 'Low', 'Volume'])\n",
    "X.head()"
   ]
  },
  {
   "cell_type": "code",
   "execution_count": 13,
   "metadata": {},
   "outputs": [],
   "source": [
    "from datetime import datetime, timedelta"
   ]
  },
  {
   "cell_type": "code",
   "execution_count": 14,
   "metadata": {},
   "outputs": [
    {
     "data": {
      "text/plain": [
       "Timestamp('2023-10-12 00:00:00')"
      ]
     },
     "execution_count": 14,
     "metadata": {},
     "output_type": "execute_result"
    }
   ],
   "source": [
    "X['Timestamp'].max() - timedelta(10)"
   ]
  },
  {
   "cell_type": "code",
   "execution_count": 15,
   "metadata": {},
   "outputs": [
    {
     "data": {
      "text/plain": [
       "((388716, 26), (14400, 26), (388716,), (14400,))"
      ]
     },
     "execution_count": 15,
     "metadata": {},
     "output_type": "execute_result"
    }
   ],
   "source": [
    "testing_days = 10\n",
    "testing_thresh = X['Timestamp'].max() - timedelta(testing_days)\n",
    "\n",
    "# mask to grab the days for training and testing\n",
    "training_mask = X.Timestamp <= testing_thresh\n",
    "testing_mask = X.Timestamp > testing_thresh\n",
    "X = X.drop(columns=['Timestamp'])\n",
    "\n",
    "# subset and make training and validation sets\n",
    "X_train, X_val, y_train, y_val = X[training_mask], X[testing_mask], y[training_mask], y[testing_mask] #train_test_split(X, y, test_size=0.20, random_state=0, shuffle=True, stratify=X['stock_id']) # random_state=8\n",
    "X_train.shape, X_val.shape, y_train.shape, y_val.shape"
   ]
  },
  {
   "cell_type": "code",
   "execution_count": 16,
   "metadata": {},
   "outputs": [],
   "source": [
    "import matplotlib.pyplot as plt\n",
    "import seaborn as sns"
   ]
  },
  {
   "cell_type": "code",
   "execution_count": 17,
   "metadata": {},
   "outputs": [
    {
     "data": {
      "text/plain": [
       "<Axes: ylabel='Close'>"
      ]
     },
     "execution_count": 17,
     "metadata": {},
     "output_type": "execute_result"
    },
    {
     "data": {
      "image/png": "[encoded data removed]",
      "text/plain": [
       "<Figure size 640x480 with 1 Axes>"
      ]
     },
     "metadata": {},
     "output_type": "display_data"
    }
   ],
   "source": [
    "sns.lineplot(y_train)"
   ]
  },
  {
   "cell_type": "code",
   "execution_count": 18,
   "metadata": {},
   "outputs": [
    {
     "data": {
      "text/plain": [
       "<Axes: >"
      ]
     },
     "execution_count": 18,
     "metadata": {},
     "output_type": "execute_result"
    },
    {
     "data": {
      "image/png": "[encoded data removed]",
      "text/plain": [
       "<Figure size 640x480 with 1 Axes>"
      ]
     },
     "metadata": {},
     "output_type": "display_data"
    }
   ],
   "source": [
    "sns.lineplot(y_train - X_train['Close_1min_before'])"
   ]
  },
  {
   "cell_type": "code",
   "execution_count": 19,
   "metadata": {},
   "outputs": [
    {
     "data": {
      "text/plain": [
       "<Axes: ylabel='Count'>"
      ]
     },
     "execution_count": 19,
     "metadata": {},
     "output_type": "execute_result"
    },
    {
     "data": {
      "image/png": "[encoded data removed]",
      "text/plain": [
       "<Figure size 640x480 with 1 Axes>"
      ]
     },
     "metadata": {},
     "output_type": "display_data"
    }
   ],
   "source": [
    "sns.histplot(y_train - X_train['Close_1min_before'])"
   ]
  },
  {
   "cell_type": "code",
   "execution_count": 20,
   "metadata": {},
   "outputs": [
    {
     "data": {
      "text/plain": [
       "<Axes: ylabel='Count'>"
      ]
     },
     "execution_count": 20,
     "metadata": {},
     "output_type": "execute_result"
    },
    {
     "data": {
      "image/png": "[encoded data removed]",
      "text/plain": [
       "<Figure size 640x480 with 1 Axes>"
      ]
     },
     "metadata": {},
     "output_type": "display_data"
    }
   ],
   "source": [
    "sns.histplot((y_train - X_train['Close_1min_before']) > 0)"
   ]
  },
  {
   "cell_type": "code",
   "execution_count": 21,
   "metadata": {},
   "outputs": [
    {
     "data": {
      "image/png": "[encoded data removed]",
      "text/plain": [
       "<Figure size 640x480 with 1 Axes>"
      ]
     },
     "metadata": {},
     "output_type": "display_data"
    }
   ],
   "source": [
    "from pandas.plotting import autocorrelation_plot\n",
    "\n",
    "autocorrelation_plot((y_train - X_train['Close_1min_before'])[:10000])\n",
    "plt.show()"
   ]
  },
  {
   "cell_type": "code",
   "execution_count": 22,
   "metadata": {},
   "outputs": [],
   "source": [
    "def subtract_baseline(data, baseline_series, columns_ignore=None):\n",
    "    new_data = data.copy()\n",
    "    for col in data:\n",
    "        if columns_ignore is not None:\n",
    "            if col in columns_ignore:\n",
    "                continue\n",
    "        new_data[col] -= baseline_series\n",
    "    return new_data"
   ]
  },
  {
   "cell_type": "code",
   "execution_count": 23,
   "metadata": {},
   "outputs": [
    {
     "data": {
      "text/plain": [
       "['Volume_1min_before',\n",
       " 'Volume_2min_before',\n",
       " 'Volume_3min_before',\n",
       " 'Volume_4min_before',\n",
       " 'Volume_5min_before']"
      ]
     },
     "execution_count": 23,
     "metadata": {},
     "output_type": "execute_result"
    }
   ],
   "source": [
    "[s for s in X_train.columns if 'Volume' in s]"
   ]
  },
  {
   "cell_type": "code",
   "execution_count": null,
   "metadata": {},
   "outputs": [],
   "source": []
  },
  {
   "cell_type": "code",
   "execution_count": 33,
   "metadata": {},
   "outputs": [],
   "source": [
    "X_subtracted_train = subtract_baseline(X_train, X_train['Close_1min_before'], columns_ignore={\n",
    "    'Volume_1min_before',\n",
    "    'Volume_2min_before',\n",
    "    'Volume_3min_before',\n",
    "    'Volume_4min_before',\n",
    "    'Volume_5min_before'\n",
    "})\n",
    "y_subtracted_train = y_train - X_train['Close_1min_before']\n",
    "\n",
    "X_subtracted_val = subtract_baseline(X_val, X_val['Close_1min_before'], columns_ignore={\n",
    "    'Volume_1min_before',\n",
    "    'Volume_2min_before',\n",
    "    'Volume_3min_before',\n",
    "    'Volume_4min_before',\n",
    "    'Volume_5min_before'\n",
    "})\n",
    "y_subtracted_val = y_val - X_val['Close_1min_before']"
   ]
  },
  {
   "cell_type": "code",
   "execution_count": 34,
   "metadata": {},
   "outputs": [],
   "source": [
    "from catboost import CatBoostRegressor, CatBoostClassifier\n",
    "from catboost import EShapCalcType, EFeaturesSelectionAlgorithm\n",
    "from catboost import Pool\n",
    "from sklearn.metrics import mean_absolute_error"
   ]
  },
  {
   "cell_type": "code",
   "execution_count": 35,
   "metadata": {},
   "outputs": [],
   "source": [
    "train_pool = Pool(data=X_subtracted_train, label=y_subtracted_train)\n",
    "val_pool = Pool(data=X_subtracted_val, label=y_subtracted_val)"
   ]
  },
  {
   "cell_type": "code",
   "execution_count": 36,
   "metadata": {},
   "outputs": [
    {
     "name": "stdout",
     "output_type": "stream",
     "text": [
      "--------------Performing Feature Selection----------------\n"
     ]
    }
   ],
   "source": [
    "# params = dict(loss_function='MAE',\n",
    "#               score_function='Cosine',\n",
    "#               eval_metric = 'MAE',\n",
    "#               metric_period=100,\n",
    "#               task_type='GPU',\n",
    "#               od_type='Iter',\n",
    "#               od_wait=20,\n",
    "#               verbose=200,\n",
    "#               random_seed=7,\n",
    "#               border_count=32,\n",
    "#               use_best_model=True,\n",
    "#               bootstrap_type='Bernoulli',\n",
    "#               subsample=0.90,\n",
    "#               random_strength=3, # more bagging to reduce overfitting\n",
    "#               depth=9,\n",
    "#               l2_leaf_reg=8,\n",
    "#               learning_rate=0.057,\n",
    "#               )\n",
    "\n",
    "print(\"--------------Performing Feature Selection----------------\")\n",
    "# model = CatBoostRegressor(**params)\n",
    "model = CatBoostRegressor()"
   ]
  },
  {
   "cell_type": "code",
   "execution_count": 37,
   "metadata": {},
   "outputs": [
    {
     "data": {
      "text/plain": [
       "5         1.0\n",
       "6        -1.0\n",
       "7        -1.0\n",
       "8         1.0\n",
       "9        -1.0\n",
       "         ... \n",
       "388716   -1.0\n",
       "388717    1.0\n",
       "388718   -1.0\n",
       "388719    1.0\n",
       "388720   -1.0\n",
       "Name: Close_2min_before, Length: 388716, dtype: float64"
      ]
     },
     "execution_count": 37,
     "metadata": {},
     "output_type": "execute_result"
    }
   ],
   "source": [
    "np.sign(X_subtracted_train['Close_2min_before'])"
   ]
  },
  {
   "cell_type": "code",
   "execution_count": 38,
   "metadata": {},
   "outputs": [
    {
     "name": "stdout",
     "output_type": "stream",
     "text": [
      "0:\tlearn: 15.3718003\ttest: 17.7684870\tbest: 17.7684870 (0)\ttotal: 184ms\tremaining: 18.3s\n",
      "1:\tlearn: 15.3608168\ttest: 17.7684491\tbest: 17.7684491 (1)\ttotal: 212ms\tremaining: 10.4s\n",
      "2:\tlearn: 15.3501696\ttest: 17.7699076\tbest: 17.7684491 (1)\ttotal: 240ms\tremaining: 7.75s\n",
      "3:\tlearn: 15.3398121\ttest: 17.7679541\tbest: 17.7679541 (3)\ttotal: 268ms\tremaining: 6.43s\n",
      "4:\tlearn: 15.3304889\ttest: 17.7656867\tbest: 17.7656867 (4)\ttotal: 301ms\tremaining: 5.72s\n",
      "5:\tlearn: 15.3218895\ttest: 17.7703536\tbest: 17.7656867 (4)\ttotal: 334ms\tremaining: 5.23s\n",
      "6:\tlearn: 15.3144724\ttest: 17.7709124\tbest: 17.7656867 (4)\ttotal: 363ms\tremaining: 4.82s\n",
      "7:\tlearn: 15.3111588\ttest: 17.7752601\tbest: 17.7656867 (4)\ttotal: 390ms\tremaining: 4.49s\n",
      "8:\tlearn: 15.3035682\ttest: 17.7732174\tbest: 17.7656867 (4)\ttotal: 424ms\tremaining: 4.28s\n",
      "9:\tlearn: 15.2964442\ttest: 17.7719929\tbest: 17.7656867 (4)\ttotal: 454ms\tremaining: 4.09s\n",
      "10:\tlearn: 15.2896606\ttest: 17.7702389\tbest: 17.7656867 (4)\ttotal: 487ms\tremaining: 3.94s\n",
      "11:\tlearn: 15.2861707\ttest: 17.7795161\tbest: 17.7656867 (4)\ttotal: 514ms\tremaining: 3.77s\n",
      "12:\tlearn: 15.2824714\ttest: 17.7815385\tbest: 17.7656867 (4)\ttotal: 540ms\tremaining: 3.62s\n",
      "13:\tlearn: 15.2776254\ttest: 17.7822115\tbest: 17.7656867 (4)\ttotal: 570ms\tremaining: 3.5s\n",
      "14:\tlearn: 15.2713254\ttest: 17.7829104\tbest: 17.7656867 (4)\ttotal: 598ms\tremaining: 3.39s\n",
      "15:\tlearn: 15.2692463\ttest: 17.7840926\tbest: 17.7656867 (4)\ttotal: 626ms\tremaining: 3.29s\n",
      "16:\tlearn: 15.2663401\ttest: 17.7851298\tbest: 17.7656867 (4)\ttotal: 654ms\tremaining: 3.19s\n",
      "17:\tlearn: 15.2640496\ttest: 17.7876922\tbest: 17.7656867 (4)\ttotal: 681ms\tremaining: 3.1s\n",
      "18:\tlearn: 15.2616616\ttest: 17.7876304\tbest: 17.7656867 (4)\ttotal: 711ms\tremaining: 3.03s\n",
      "19:\tlearn: 15.2585560\ttest: 17.7890354\tbest: 17.7656867 (4)\ttotal: 737ms\tremaining: 2.95s\n",
      "20:\tlearn: 15.2552119\ttest: 17.7887278\tbest: 17.7656867 (4)\ttotal: 765ms\tremaining: 2.88s\n",
      "21:\tlearn: 15.2521733\ttest: 17.7906195\tbest: 17.7656867 (4)\ttotal: 790ms\tremaining: 2.8s\n",
      "22:\tlearn: 15.2506254\ttest: 17.7903541\tbest: 17.7656867 (4)\ttotal: 820ms\tremaining: 2.74s\n",
      "23:\tlearn: 15.2473353\ttest: 17.7653147\tbest: 17.7653147 (23)\ttotal: 849ms\tremaining: 2.69s\n",
      "24:\tlearn: 15.2407401\ttest: 17.7685517\tbest: 17.7653147 (23)\ttotal: 880ms\tremaining: 2.64s\n",
      "25:\tlearn: 15.2372348\ttest: 17.7687054\tbest: 17.7653147 (23)\ttotal: 910ms\tremaining: 2.59s\n",
      "26:\tlearn: 15.2348374\ttest: 17.7703558\tbest: 17.7653147 (23)\ttotal: 941ms\tremaining: 2.54s\n",
      "27:\tlearn: 15.2323135\ttest: 17.7709520\tbest: 17.7653147 (23)\ttotal: 982ms\tremaining: 2.52s\n",
      "28:\tlearn: 15.2305722\ttest: 17.7709519\tbest: 17.7653147 (23)\ttotal: 1.02s\tremaining: 2.49s\n",
      "29:\tlearn: 15.2263948\ttest: 17.7764702\tbest: 17.7653147 (23)\ttotal: 1.04s\tremaining: 2.44s\n",
      "30:\tlearn: 15.2247624\ttest: 17.7771683\tbest: 17.7653147 (23)\ttotal: 1.07s\tremaining: 2.39s\n",
      "31:\tlearn: 15.2227754\ttest: 17.7766178\tbest: 17.7653147 (23)\ttotal: 1.1s\tremaining: 2.34s\n",
      "32:\tlearn: 15.2202891\ttest: 17.7790335\tbest: 17.7653147 (23)\ttotal: 1.13s\tremaining: 2.29s\n",
      "33:\tlearn: 15.2188937\ttest: 17.7795587\tbest: 17.7653147 (23)\ttotal: 1.16s\tremaining: 2.25s\n",
      "34:\tlearn: 15.2170686\ttest: 17.7809654\tbest: 17.7653147 (23)\ttotal: 1.18s\tremaining: 2.2s\n",
      "35:\tlearn: 15.2149792\ttest: 17.7825267\tbest: 17.7653147 (23)\ttotal: 1.21s\tremaining: 2.15s\n",
      "36:\tlearn: 15.2105395\ttest: 17.7829610\tbest: 17.7653147 (23)\ttotal: 1.24s\tremaining: 2.12s\n",
      "37:\tlearn: 15.2074764\ttest: 17.7794881\tbest: 17.7653147 (23)\ttotal: 1.27s\tremaining: 2.08s\n",
      "38:\tlearn: 15.2059849\ttest: 17.7805828\tbest: 17.7653147 (23)\ttotal: 1.31s\tremaining: 2.04s\n",
      "39:\tlearn: 15.2042279\ttest: 17.7801314\tbest: 17.7653147 (23)\ttotal: 1.33s\tremaining: 2s\n",
      "40:\tlearn: 15.2016205\ttest: 17.7811168\tbest: 17.7653147 (23)\ttotal: 1.36s\tremaining: 1.96s\n",
      "41:\tlearn: 15.1994664\ttest: 17.7841457\tbest: 17.7653147 (23)\ttotal: 1.39s\tremaining: 1.92s\n",
      "42:\tlearn: 15.1969014\ttest: 17.7832511\tbest: 17.7653147 (23)\ttotal: 1.43s\tremaining: 1.89s\n",
      "43:\tlearn: 15.1918125\ttest: 17.7865243\tbest: 17.7653147 (23)\ttotal: 1.45s\tremaining: 1.85s\n",
      "44:\tlearn: 15.1875847\ttest: 17.7870128\tbest: 17.7653147 (23)\ttotal: 1.48s\tremaining: 1.81s\n",
      "45:\tlearn: 15.1854355\ttest: 17.7870990\tbest: 17.7653147 (23)\ttotal: 1.51s\tremaining: 1.77s\n",
      "46:\tlearn: 15.1830478\ttest: 17.7829397\tbest: 17.7653147 (23)\ttotal: 1.54s\tremaining: 1.73s\n",
      "47:\tlearn: 15.1817584\ttest: 17.7828122\tbest: 17.7653147 (23)\ttotal: 1.56s\tremaining: 1.69s\n",
      "48:\tlearn: 15.1789054\ttest: 17.7834758\tbest: 17.7653147 (23)\ttotal: 1.59s\tremaining: 1.65s\n",
      "49:\tlearn: 15.1769344\ttest: 17.7842259\tbest: 17.7653147 (23)\ttotal: 1.62s\tremaining: 1.62s\n",
      "50:\tlearn: 15.1747808\ttest: 17.7825070\tbest: 17.7653147 (23)\ttotal: 1.65s\tremaining: 1.58s\n",
      "51:\tlearn: 15.1726737\ttest: 17.7815182\tbest: 17.7653147 (23)\ttotal: 1.68s\tremaining: 1.55s\n",
      "52:\tlearn: 15.1705894\ttest: 17.7822397\tbest: 17.7653147 (23)\ttotal: 1.71s\tremaining: 1.51s\n",
      "53:\tlearn: 15.1689785\ttest: 17.7826056\tbest: 17.7653147 (23)\ttotal: 1.74s\tremaining: 1.48s\n",
      "54:\tlearn: 15.1650141\ttest: 17.7829436\tbest: 17.7653147 (23)\ttotal: 1.77s\tremaining: 1.45s\n",
      "55:\tlearn: 15.1636537\ttest: 17.7835392\tbest: 17.7653147 (23)\ttotal: 1.79s\tremaining: 1.41s\n",
      "56:\tlearn: 15.1614990\ttest: 17.7845386\tbest: 17.7653147 (23)\ttotal: 1.82s\tremaining: 1.38s\n",
      "57:\tlearn: 15.1598187\ttest: 17.7865746\tbest: 17.7653147 (23)\ttotal: 1.86s\tremaining: 1.35s\n",
      "58:\tlearn: 15.1565464\ttest: 17.7866172\tbest: 17.7653147 (23)\ttotal: 1.89s\tremaining: 1.31s\n",
      "59:\tlearn: 15.1552105\ttest: 17.7868313\tbest: 17.7653147 (23)\ttotal: 1.92s\tremaining: 1.28s\n",
      "60:\tlearn: 15.1529554\ttest: 17.7956040\tbest: 17.7653147 (23)\ttotal: 1.95s\tremaining: 1.25s\n",
      "61:\tlearn: 15.1503835\ttest: 17.7947463\tbest: 17.7653147 (23)\ttotal: 1.99s\tremaining: 1.22s\n",
      "62:\tlearn: 15.1481327\ttest: 17.7962483\tbest: 17.7653147 (23)\ttotal: 2.02s\tremaining: 1.19s\n",
      "63:\tlearn: 15.1465038\ttest: 17.7963347\tbest: 17.7653147 (23)\ttotal: 2.05s\tremaining: 1.15s\n",
      "64:\tlearn: 15.1446815\ttest: 17.7993257\tbest: 17.7653147 (23)\ttotal: 2.08s\tremaining: 1.12s\n",
      "65:\tlearn: 15.1424600\ttest: 17.7998846\tbest: 17.7653147 (23)\ttotal: 2.11s\tremaining: 1.09s\n",
      "66:\tlearn: 15.1403058\ttest: 17.8011781\tbest: 17.7653147 (23)\ttotal: 2.14s\tremaining: 1.05s\n",
      "67:\tlearn: 15.1380764\ttest: 17.8090455\tbest: 17.7653147 (23)\ttotal: 2.17s\tremaining: 1.02s\n",
      "68:\tlearn: 15.1354299\ttest: 17.8046850\tbest: 17.7653147 (23)\ttotal: 2.2s\tremaining: 988ms\n",
      "69:\tlearn: 15.1334624\ttest: 17.8042931\tbest: 17.7653147 (23)\ttotal: 2.23s\tremaining: 956ms\n",
      "70:\tlearn: 15.1313950\ttest: 17.8039634\tbest: 17.7653147 (23)\ttotal: 2.26s\tremaining: 923ms\n",
      "71:\tlearn: 15.1298336\ttest: 17.8024334\tbest: 17.7653147 (23)\ttotal: 2.29s\tremaining: 892ms\n",
      "72:\tlearn: 15.1282026\ttest: 17.8025262\tbest: 17.7653147 (23)\ttotal: 2.33s\tremaining: 861ms\n",
      "73:\tlearn: 15.1258703\ttest: 17.8052950\tbest: 17.7653147 (23)\ttotal: 2.36s\tremaining: 828ms\n",
      "74:\tlearn: 15.1240362\ttest: 17.8038026\tbest: 17.7653147 (23)\ttotal: 2.39s\tremaining: 795ms\n",
      "75:\tlearn: 15.1233707\ttest: 17.8045165\tbest: 17.7653147 (23)\ttotal: 2.42s\tremaining: 763ms\n",
      "76:\tlearn: 15.1195782\ttest: 17.8039195\tbest: 17.7653147 (23)\ttotal: 2.45s\tremaining: 731ms\n",
      "77:\tlearn: 15.1178316\ttest: 17.8031576\tbest: 17.7653147 (23)\ttotal: 2.47s\tremaining: 697ms\n",
      "78:\tlearn: 15.1158493\ttest: 17.8034877\tbest: 17.7653147 (23)\ttotal: 2.5s\tremaining: 665ms\n",
      "79:\tlearn: 15.1141818\ttest: 17.8039336\tbest: 17.7653147 (23)\ttotal: 2.53s\tremaining: 632ms\n",
      "80:\tlearn: 15.1123137\ttest: 17.8068521\tbest: 17.7653147 (23)\ttotal: 2.56s\tremaining: 600ms\n",
      "81:\tlearn: 15.1107509\ttest: 17.8078363\tbest: 17.7653147 (23)\ttotal: 2.59s\tremaining: 568ms\n",
      "82:\tlearn: 15.1087652\ttest: 17.8079406\tbest: 17.7653147 (23)\ttotal: 2.62s\tremaining: 536ms\n",
      "83:\tlearn: 15.1061422\ttest: 17.8093700\tbest: 17.7653147 (23)\ttotal: 2.65s\tremaining: 504ms\n",
      "84:\tlearn: 15.1051989\ttest: 17.8104384\tbest: 17.7653147 (23)\ttotal: 2.67s\tremaining: 472ms\n",
      "85:\tlearn: 15.1014620\ttest: 17.8138745\tbest: 17.7653147 (23)\ttotal: 2.7s\tremaining: 440ms\n",
      "86:\tlearn: 15.0978889\ttest: 17.8167705\tbest: 17.7653147 (23)\ttotal: 2.73s\tremaining: 409ms\n",
      "87:\tlearn: 15.0954582\ttest: 17.8181986\tbest: 17.7653147 (23)\ttotal: 2.76s\tremaining: 377ms\n",
      "88:\tlearn: 15.0944542\ttest: 17.8184461\tbest: 17.7653147 (23)\ttotal: 2.79s\tremaining: 345ms\n",
      "89:\tlearn: 15.0922230\ttest: 17.8175323\tbest: 17.7653147 (23)\ttotal: 2.83s\tremaining: 314ms\n",
      "90:\tlearn: 15.0905366\ttest: 17.8212400\tbest: 17.7653147 (23)\ttotal: 2.85s\tremaining: 282ms\n",
      "91:\tlearn: 15.0888123\ttest: 17.8219124\tbest: 17.7653147 (23)\ttotal: 2.89s\tremaining: 251ms\n",
      "92:\tlearn: 15.0853203\ttest: 17.8225462\tbest: 17.7653147 (23)\ttotal: 2.92s\tremaining: 219ms\n",
      "93:\tlearn: 15.0838287\ttest: 17.8180038\tbest: 17.7653147 (23)\ttotal: 2.94s\tremaining: 188ms\n",
      "94:\tlearn: 15.0824110\ttest: 17.8172154\tbest: 17.7653147 (23)\ttotal: 2.97s\tremaining: 156ms\n",
      "95:\tlearn: 15.0813569\ttest: 17.8177507\tbest: 17.7653147 (23)\ttotal: 3s\tremaining: 125ms\n",
      "96:\tlearn: 15.0778489\ttest: 17.8220900\tbest: 17.7653147 (23)\ttotal: 3.04s\tremaining: 93.9ms\n",
      "97:\tlearn: 15.0759561\ttest: 17.8263320\tbest: 17.7653147 (23)\ttotal: 3.07s\tremaining: 62.6ms\n",
      "98:\tlearn: 15.0746878\ttest: 17.8244162\tbest: 17.7653147 (23)\ttotal: 3.1s\tremaining: 31.3ms\n",
      "99:\tlearn: 15.0729074\ttest: 17.8221742\tbest: 17.7653147 (23)\ttotal: 3.13s\tremaining: 0us\n",
      "\n",
      "bestTest = 17.76531475\n",
      "bestIteration = 23\n",
      "\n",
      "Shrink model to first 24 iterations.\n",
      "-----Predicting with the reduced set model-----------\n",
      "MAE on validation set: 8.5941\n"
     ]
    }
   ],
   "source": [
    "params = {'depth': 4, 'iterations': 100, 'l2_leaf_reg': 5, 'learning_rate': 0.05}\n",
    "params =  {'depth': 6, 'iterations': 100, 'l2_leaf_reg': 1, 'learning_rate': 0.05}\n",
    "params = {'depth': 6, 'iterations': 100, 'l2_leaf_reg': 1, 'learning_rate': 0.05}\n",
    "final_model = CatBoostRegressor(**params)\n",
    "# final_model = CatBoostRegressor()\n",
    "final_model.fit(X_subtracted_train, #[summary['selected_features_names']],  # \n",
    "                y_subtracted_train,\n",
    "               eval_set=(X_subtracted_val, y_subtracted_val)) # [summary['selected_features_names']]\n",
    "\n",
    "print(\"-----Predicting with the reduced set model-----------\")\n",
    "y_val_pred = final_model.predict(X_subtracted_val) # [summary['selected_features_names']]\n",
    "y_val_mae = mean_absolute_error(y_val, y_val_pred + X_val['Close_1min_before'])\n",
    "print(f\"MAE on validation set: {np.round(y_val_mae, 4)}\")"
   ]
  },
  {
   "cell_type": "markdown",
   "metadata": {},
   "source": [
    "## search hyperparameters"
   ]
  },
  {
   "cell_type": "code",
   "execution_count": null,
   "metadata": {},
   "outputs": [
    {
     "name": "stdout",
     "output_type": "stream",
     "text": [
      "Fitting 3 folds for each of 36 candidates, totalling 108 fits\n",
      "[CV 1/3] END depth=4, iterations=100, l2_leaf_reg=1, learning_rate=0.01;, score=-9.851 total time=   0.9s\n",
      "[CV 2/3] END depth=4, iterations=100, l2_leaf_reg=1, learning_rate=0.01;, score=-8.018 total time=   1.5s\n",
      "[CV 3/3] END depth=4, iterations=100, l2_leaf_reg=1, learning_rate=0.01;, score=-6.429 total time=   2.0s\n",
      "[CV 1/3] END depth=4, iterations=100, l2_leaf_reg=1, learning_rate=0.05;, score=-9.851 total time=   0.8s\n",
      "[CV 2/3] END depth=4, iterations=100, l2_leaf_reg=1, learning_rate=0.05;, score=-8.023 total time=   1.4s\n",
      "[CV 3/3] END depth=4, iterations=100, l2_leaf_reg=1, learning_rate=0.05;, score=-6.455 total time=   2.0s\n",
      "[CV 1/3] END depth=4, iterations=100, l2_leaf_reg=3, learning_rate=0.01;, score=-9.851 total time=   0.8s\n",
      "[CV 2/3] END depth=4, iterations=100, l2_leaf_reg=3, learning_rate=0.01;, score=-8.019 total time=   1.4s\n",
      "[CV 3/3] END depth=4, iterations=100, l2_leaf_reg=3, learning_rate=0.01;, score=-6.429 total time=   2.1s\n",
      "[CV 1/3] END depth=4, iterations=100, l2_leaf_reg=3, learning_rate=0.05;, score=-9.851 total time=   0.9s\n",
      "[CV 2/3] END depth=4, iterations=100, l2_leaf_reg=3, learning_rate=0.05;, score=-8.020 total time=   1.6s\n",
      "[CV 3/3] END depth=4, iterations=100, l2_leaf_reg=3, learning_rate=0.05;, score=-6.433 total time=   2.2s\n",
      "[CV 1/3] END depth=4, iterations=100, l2_leaf_reg=5, learning_rate=0.01;, score=-9.851 total time=   0.9s\n",
      "[CV 2/3] END depth=4, iterations=100, l2_leaf_reg=5, learning_rate=0.01;, score=-8.019 total time=   1.6s\n",
      "[CV 3/3] END depth=4, iterations=100, l2_leaf_reg=5, learning_rate=0.01;, score=-6.430 total time=   2.2s\n",
      "[CV 1/3] END depth=4, iterations=100, l2_leaf_reg=5, learning_rate=0.05;, score=-9.851 total time=   0.8s\n",
      "[CV 2/3] END depth=4, iterations=100, l2_leaf_reg=5, learning_rate=0.05;, score=-8.020 total time=   1.7s\n",
      "[CV 3/3] END depth=4, iterations=100, l2_leaf_reg=5, learning_rate=0.05;, score=-6.433 total time=   2.4s\n",
      "[CV 1/3] END depth=4, iterations=200, l2_leaf_reg=1, learning_rate=0.01;, score=-9.851 total time=   1.7s\n",
      "[CV 2/3] END depth=4, iterations=200, l2_leaf_reg=1, learning_rate=0.01;, score=-8.018 total time=   2.8s\n",
      "[CV 3/3] END depth=4, iterations=200, l2_leaf_reg=1, learning_rate=0.01;, score=-6.429 total time=   4.8s\n",
      "[CV 1/3] END depth=4, iterations=200, l2_leaf_reg=1, learning_rate=0.05;, score=-9.851 total time=   1.9s\n",
      "[CV 2/3] END depth=4, iterations=200, l2_leaf_reg=1, learning_rate=0.05;, score=-8.023 total time=   3.3s\n",
      "[CV 3/3] END depth=4, iterations=200, l2_leaf_reg=1, learning_rate=0.05;, score=-6.455 total time=   4.6s\n",
      "[CV 1/3] END depth=4, iterations=200, l2_leaf_reg=3, learning_rate=0.01;, score=-9.851 total time=   1.9s\n",
      "[CV 2/3] END depth=4, iterations=200, l2_leaf_reg=3, learning_rate=0.01;, score=-8.019 total time=   2.9s\n",
      "[CV 3/3] END depth=4, iterations=200, l2_leaf_reg=3, learning_rate=0.01;, score=-6.429 total time=   4.3s\n",
      "[CV 1/3] END depth=4, iterations=200, l2_leaf_reg=3, learning_rate=0.05;, score=-9.851 total time=   1.8s\n",
      "[CV 2/3] END depth=4, iterations=200, l2_leaf_reg=3, learning_rate=0.05;, score=-8.020 total time=   3.0s\n",
      "[CV 3/3] END depth=4, iterations=200, l2_leaf_reg=3, learning_rate=0.05;, score=-6.433 total time=   4.4s\n",
      "[CV 1/3] END depth=4, iterations=200, l2_leaf_reg=5, learning_rate=0.01;, score=-9.851 total time=   1.8s\n",
      "[CV 2/3] END depth=4, iterations=200, l2_leaf_reg=5, learning_rate=0.01;, score=-8.019 total time=   2.9s\n",
      "[CV 3/3] END depth=4, iterations=200, l2_leaf_reg=5, learning_rate=0.01;, score=-6.430 total time=   4.2s\n",
      "[CV 1/3] END depth=4, iterations=200, l2_leaf_reg=5, learning_rate=0.05;, score=-9.851 total time=   1.7s\n",
      "[CV 2/3] END depth=4, iterations=200, l2_leaf_reg=5, learning_rate=0.05;, score=-8.020 total time=   2.9s\n",
      "[CV 3/3] END depth=4, iterations=200, l2_leaf_reg=5, learning_rate=0.05;, score=-6.433 total time=   4.1s\n",
      "[CV 1/3] END depth=4, iterations=400, l2_leaf_reg=1, learning_rate=0.01;, score=-9.851 total time=   3.5s\n",
      "[CV 2/3] END depth=4, iterations=400, l2_leaf_reg=1, learning_rate=0.01;, score=-8.018 total time=   5.6s\n",
      "[CV 3/3] END depth=4, iterations=400, l2_leaf_reg=1, learning_rate=0.01;, score=-6.429 total time=   8.1s\n",
      "[CV 1/3] END depth=4, iterations=400, l2_leaf_reg=1, learning_rate=0.05;, score=-9.851 total time=   3.6s\n",
      "[CV 2/3] END depth=4, iterations=400, l2_leaf_reg=1, learning_rate=0.05;, score=-8.023 total time=   5.6s\n",
      "[CV 3/3] END depth=4, iterations=400, l2_leaf_reg=1, learning_rate=0.05;, score=-6.455 total time=  10.0s\n",
      "[CV 1/3] END depth=4, iterations=400, l2_leaf_reg=3, learning_rate=0.01;, score=-9.851 total time=   4.8s\n",
      "[CV 2/3] END depth=4, iterations=400, l2_leaf_reg=3, learning_rate=0.01;, score=-8.019 total time=   8.0s\n",
      "[CV 3/3] END depth=4, iterations=400, l2_leaf_reg=3, learning_rate=0.01;, score=-6.429 total time=  11.4s\n",
      "[CV 1/3] END depth=4, iterations=400, l2_leaf_reg=3, learning_rate=0.05;, score=-9.851 total time=   4.8s\n",
      "[CV 2/3] END depth=4, iterations=400, l2_leaf_reg=3, learning_rate=0.05;, score=-8.020 total time=   8.5s\n",
      "[CV 3/3] END depth=4, iterations=400, l2_leaf_reg=3, learning_rate=0.05;, score=-6.433 total time=   8.1s\n",
      "[CV 1/3] END depth=4, iterations=400, l2_leaf_reg=5, learning_rate=0.01;, score=-9.851 total time=   3.2s\n",
      "[CV 2/3] END depth=4, iterations=400, l2_leaf_reg=5, learning_rate=0.01;, score=-8.019 total time=   5.4s\n",
      "[CV 3/3] END depth=4, iterations=400, l2_leaf_reg=5, learning_rate=0.01;, score=-6.430 total time=   7.8s\n",
      "[CV 1/3] END depth=4, iterations=400, l2_leaf_reg=5, learning_rate=0.05;, score=-9.851 total time=   3.3s\n",
      "[CV 2/3] END depth=4, iterations=400, l2_leaf_reg=5, learning_rate=0.05;, score=-8.020 total time=   5.5s\n",
      "[CV 3/3] END depth=4, iterations=400, l2_leaf_reg=5, learning_rate=0.05;, score=-6.433 total time=   7.9s\n",
      "[CV 1/3] END depth=6, iterations=100, l2_leaf_reg=1, learning_rate=0.01;, score=-9.851 total time=   1.3s\n",
      "[CV 2/3] END depth=6, iterations=100, l2_leaf_reg=1, learning_rate=0.01;, score=-8.018 total time=   2.1s\n",
      "[CV 3/3] END depth=6, iterations=100, l2_leaf_reg=1, learning_rate=0.01;, score=-6.429 total time=   2.8s\n",
      "[CV 1/3] END depth=6, iterations=100, l2_leaf_reg=1, learning_rate=0.05;, score=-9.850 total time=   1.2s\n",
      "[CV 2/3] END depth=6, iterations=100, l2_leaf_reg=1, learning_rate=0.05;, score=-8.018 total time=   2.0s\n",
      "[CV 3/3] END depth=6, iterations=100, l2_leaf_reg=1, learning_rate=0.05;, score=-6.429 total time=   2.8s\n",
      "[CV 1/3] END depth=6, iterations=100, l2_leaf_reg=3, learning_rate=0.01;, score=-9.851 total time=   1.3s\n",
      "[CV 2/3] END depth=6, iterations=100, l2_leaf_reg=3, learning_rate=0.01;, score=-8.019 total time=   2.0s\n",
      "[CV 3/3] END depth=6, iterations=100, l2_leaf_reg=3, learning_rate=0.01;, score=-6.429 total time=   2.9s\n",
      "[CV 1/3] END depth=6, iterations=100, l2_leaf_reg=3, learning_rate=0.05;, score=-9.850 total time=   1.3s\n",
      "[CV 2/3] END depth=6, iterations=100, l2_leaf_reg=3, learning_rate=0.05;, score=-8.020 total time=   2.0s\n",
      "[CV 3/3] END depth=6, iterations=100, l2_leaf_reg=3, learning_rate=0.05;, score=-6.429 total time=   2.8s\n",
      "[CV 1/3] END depth=6, iterations=100, l2_leaf_reg=5, learning_rate=0.01;, score=-9.851 total time=   1.2s\n",
      "[CV 2/3] END depth=6, iterations=100, l2_leaf_reg=5, learning_rate=0.01;, score=-8.019 total time=   2.0s\n",
      "[CV 3/3] END depth=6, iterations=100, l2_leaf_reg=5, learning_rate=0.01;, score=-6.429 total time=   2.9s\n",
      "[CV 1/3] END depth=6, iterations=100, l2_leaf_reg=5, learning_rate=0.05;, score=-9.851 total time=   1.6s\n",
      "[CV 2/3] END depth=6, iterations=100, l2_leaf_reg=5, learning_rate=0.05;, score=-8.020 total time=   2.6s\n",
      "[CV 3/3] END depth=6, iterations=100, l2_leaf_reg=5, learning_rate=0.05;, score=-6.429 total time=   3.8s\n",
      "[CV 1/3] END depth=6, iterations=200, l2_leaf_reg=1, learning_rate=0.01;, score=-9.851 total time=   3.2s\n",
      "[CV 2/3] END depth=6, iterations=200, l2_leaf_reg=1, learning_rate=0.01;, score=-8.018 total time=   5.0s\n",
      "[CV 3/3] END depth=6, iterations=200, l2_leaf_reg=1, learning_rate=0.01;, score=-6.429 total time=   6.9s\n",
      "[CV 1/3] END depth=6, iterations=200, l2_leaf_reg=1, learning_rate=0.05;, score=-9.850 total time=   3.3s\n",
      "[CV 2/3] END depth=6, iterations=200, l2_leaf_reg=1, learning_rate=0.05;, score=-8.018 total time=   5.4s\n",
      "[CV 3/3] END depth=6, iterations=200, l2_leaf_reg=1, learning_rate=0.05;, score=-6.429 total time=   6.4s\n",
      "[CV 1/3] END depth=6, iterations=200, l2_leaf_reg=3, learning_rate=0.01;, score=-9.851 total time=   2.8s\n",
      "[CV 2/3] END depth=6, iterations=200, l2_leaf_reg=3, learning_rate=0.01;, score=-8.019 total time=   4.1s\n",
      "[CV 3/3] END depth=6, iterations=200, l2_leaf_reg=3, learning_rate=0.01;, score=-6.429 total time=   5.4s\n",
      "[CV 1/3] END depth=6, iterations=200, l2_leaf_reg=3, learning_rate=0.05;, score=-9.850 total time=   2.4s\n",
      "[CV 2/3] END depth=6, iterations=200, l2_leaf_reg=3, learning_rate=0.05;, score=-8.020 total time=   3.7s\n",
      "[CV 3/3] END depth=6, iterations=200, l2_leaf_reg=3, learning_rate=0.05;, score=-6.429 total time=   5.2s\n"
     ]
    },
    {
     "ename": "KeyboardInterrupt",
     "evalue": "",
     "output_type": "error",
     "traceback": [
      "\u001b[1;31m---------------------------------------------------------------------------\u001b[0m",
      "\u001b[1;31mKeyboardInterrupt\u001b[0m                         Traceback (most recent call last)",
      "\u001b[1;32mc:\\Users\\Stepan\\Documents\\Startups\\BitcoinTrading\\trading\\notebooks\\Eda+baseline.ipynb Cell 32\u001b[0m line \u001b[0;36m2\n\u001b[0;32m     <a href='vscode-notebook-cell:/c%3A/Users/Stepan/Documents/Startups/BitcoinTrading/trading/notebooks/Eda%2Bbaseline.ipynb#Y105sZmlsZQ%3D%3D?line=24'>25</a>\u001b[0m grid \u001b[39m=\u001b[39m GridSearchCV(estimator\u001b[39m=\u001b[39mmodel, param_grid\u001b[39m=\u001b[39mparam_grid, cv\u001b[39m=\u001b[39mtscv, scoring\u001b[39m=\u001b[39m\u001b[39m'\u001b[39m\u001b[39mneg_mean_absolute_error\u001b[39m\u001b[39m'\u001b[39m, verbose\u001b[39m=\u001b[39m\u001b[39m3\u001b[39m)\n\u001b[0;32m     <a href='vscode-notebook-cell:/c%3A/Users/Stepan/Documents/Startups/BitcoinTrading/trading/notebooks/Eda%2Bbaseline.ipynb#Y105sZmlsZQ%3D%3D?line=26'>27</a>\u001b[0m \u001b[39m# Fit the model\u001b[39;00m\n\u001b[1;32m---> <a href='vscode-notebook-cell:/c%3A/Users/Stepan/Documents/Startups/BitcoinTrading/trading/notebooks/Eda%2Bbaseline.ipynb#Y105sZmlsZQ%3D%3D?line=27'>28</a>\u001b[0m grid\u001b[39m.\u001b[39;49mfit(X_subtracted_train, \u001b[39m#[summary['selected_features_names']],  # \u001b[39;49;00m\n\u001b[0;32m     <a href='vscode-notebook-cell:/c%3A/Users/Stepan/Documents/Startups/BitcoinTrading/trading/notebooks/Eda%2Bbaseline.ipynb#Y105sZmlsZQ%3D%3D?line=28'>29</a>\u001b[0m         y_subtracted_train,\n\u001b[0;32m     <a href='vscode-notebook-cell:/c%3A/Users/Stepan/Documents/Startups/BitcoinTrading/trading/notebooks/Eda%2Bbaseline.ipynb#Y105sZmlsZQ%3D%3D?line=29'>30</a>\u001b[0m         eval_set\u001b[39m=\u001b[39;49m(X_subtracted_val, y_subtracted_val))\n\u001b[0;32m     <a href='vscode-notebook-cell:/c%3A/Users/Stepan/Documents/Startups/BitcoinTrading/trading/notebooks/Eda%2Bbaseline.ipynb#Y105sZmlsZQ%3D%3D?line=30'>31</a>\u001b[0m \u001b[39mprint\u001b[39m(\u001b[39m\"\u001b[39m\u001b[39mBest parameters found: \u001b[39m\u001b[39m\"\u001b[39m, grid\u001b[39m.\u001b[39mbest_params_)\n\u001b[0;32m     <a href='vscode-notebook-cell:/c%3A/Users/Stepan/Documents/Startups/BitcoinTrading/trading/notebooks/Eda%2Bbaseline.ipynb#Y105sZmlsZQ%3D%3D?line=31'>32</a>\u001b[0m \u001b[39mprint\u001b[39m(\u001b[39m\"\u001b[39m\u001b[39mBest MAE found: \u001b[39m\u001b[39m\"\u001b[39m, \u001b[39m-\u001b[39mgrid\u001b[39m.\u001b[39mbest_score_)\n",
      "File \u001b[1;32mc:\\Users\\Stepan\\Documents\\Startups\\BitcoinTrading\\.venv\\lib\\site-packages\\sklearn\\base.py:1152\u001b[0m, in \u001b[0;36m_fit_context.<locals>.decorator.<locals>.wrapper\u001b[1;34m(estimator, *args, **kwargs)\u001b[0m\n\u001b[0;32m   1145\u001b[0m     estimator\u001b[39m.\u001b[39m_validate_params()\n\u001b[0;32m   1147\u001b[0m \u001b[39mwith\u001b[39;00m config_context(\n\u001b[0;32m   1148\u001b[0m     skip_parameter_validation\u001b[39m=\u001b[39m(\n\u001b[0;32m   1149\u001b[0m         prefer_skip_nested_validation \u001b[39mor\u001b[39;00m global_skip_validation\n\u001b[0;32m   1150\u001b[0m     )\n\u001b[0;32m   1151\u001b[0m ):\n\u001b[1;32m-> 1152\u001b[0m     \u001b[39mreturn\u001b[39;00m fit_method(estimator, \u001b[39m*\u001b[39margs, \u001b[39m*\u001b[39m\u001b[39m*\u001b[39mkwargs)\n",
      "File \u001b[1;32mc:\\Users\\Stepan\\Documents\\Startups\\BitcoinTrading\\.venv\\lib\\site-packages\\sklearn\\model_selection\\_search.py:898\u001b[0m, in \u001b[0;36mBaseSearchCV.fit\u001b[1;34m(self, X, y, groups, **fit_params)\u001b[0m\n\u001b[0;32m    892\u001b[0m     results \u001b[39m=\u001b[39m \u001b[39mself\u001b[39m\u001b[39m.\u001b[39m_format_results(\n\u001b[0;32m    893\u001b[0m         all_candidate_params, n_splits, all_out, all_more_results\n\u001b[0;32m    894\u001b[0m     )\n\u001b[0;32m    896\u001b[0m     \u001b[39mreturn\u001b[39;00m results\n\u001b[1;32m--> 898\u001b[0m \u001b[39mself\u001b[39;49m\u001b[39m.\u001b[39;49m_run_search(evaluate_candidates)\n\u001b[0;32m    900\u001b[0m \u001b[39m# multimetric is determined here because in the case of a callable\u001b[39;00m\n\u001b[0;32m    901\u001b[0m \u001b[39m# self.scoring the return type is only known after calling\u001b[39;00m\n\u001b[0;32m    902\u001b[0m first_test_score \u001b[39m=\u001b[39m all_out[\u001b[39m0\u001b[39m][\u001b[39m\"\u001b[39m\u001b[39mtest_scores\u001b[39m\u001b[39m\"\u001b[39m]\n",
      "File \u001b[1;32mc:\\Users\\Stepan\\Documents\\Startups\\BitcoinTrading\\.venv\\lib\\site-packages\\sklearn\\model_selection\\_search.py:1422\u001b[0m, in \u001b[0;36mGridSearchCV._run_search\u001b[1;34m(self, evaluate_candidates)\u001b[0m\n\u001b[0;32m   1420\u001b[0m \u001b[39mdef\u001b[39;00m \u001b[39m_run_search\u001b[39m(\u001b[39mself\u001b[39m, evaluate_candidates):\n\u001b[0;32m   1421\u001b[0m \u001b[39m    \u001b[39m\u001b[39m\"\"\"Search all candidates in param_grid\"\"\"\u001b[39;00m\n\u001b[1;32m-> 1422\u001b[0m     evaluate_candidates(ParameterGrid(\u001b[39mself\u001b[39;49m\u001b[39m.\u001b[39;49mparam_grid))\n",
      "File \u001b[1;32mc:\\Users\\Stepan\\Documents\\Startups\\BitcoinTrading\\.venv\\lib\\site-packages\\sklearn\\model_selection\\_search.py:845\u001b[0m, in \u001b[0;36mBaseSearchCV.fit.<locals>.evaluate_candidates\u001b[1;34m(candidate_params, cv, more_results)\u001b[0m\n\u001b[0;32m    837\u001b[0m \u001b[39mif\u001b[39;00m \u001b[39mself\u001b[39m\u001b[39m.\u001b[39mverbose \u001b[39m>\u001b[39m \u001b[39m0\u001b[39m:\n\u001b[0;32m    838\u001b[0m     \u001b[39mprint\u001b[39m(\n\u001b[0;32m    839\u001b[0m         \u001b[39m\"\u001b[39m\u001b[39mFitting \u001b[39m\u001b[39m{0}\u001b[39;00m\u001b[39m folds for each of \u001b[39m\u001b[39m{1}\u001b[39;00m\u001b[39m candidates,\u001b[39m\u001b[39m\"\u001b[39m\n\u001b[0;32m    840\u001b[0m         \u001b[39m\"\u001b[39m\u001b[39m totalling \u001b[39m\u001b[39m{2}\u001b[39;00m\u001b[39m fits\u001b[39m\u001b[39m\"\u001b[39m\u001b[39m.\u001b[39mformat(\n\u001b[0;32m    841\u001b[0m             n_splits, n_candidates, n_candidates \u001b[39m*\u001b[39m n_splits\n\u001b[0;32m    842\u001b[0m         )\n\u001b[0;32m    843\u001b[0m     )\n\u001b[1;32m--> 845\u001b[0m out \u001b[39m=\u001b[39m parallel(\n\u001b[0;32m    846\u001b[0m     delayed(_fit_and_score)(\n\u001b[0;32m    847\u001b[0m         clone(base_estimator),\n\u001b[0;32m    848\u001b[0m         X,\n\u001b[0;32m    849\u001b[0m         y,\n\u001b[0;32m    850\u001b[0m         train\u001b[39m=\u001b[39;49mtrain,\n\u001b[0;32m    851\u001b[0m         test\u001b[39m=\u001b[39;49mtest,\n\u001b[0;32m    852\u001b[0m         parameters\u001b[39m=\u001b[39;49mparameters,\n\u001b[0;32m    853\u001b[0m         split_progress\u001b[39m=\u001b[39;49m(split_idx, n_splits),\n\u001b[0;32m    854\u001b[0m         candidate_progress\u001b[39m=\u001b[39;49m(cand_idx, n_candidates),\n\u001b[0;32m    855\u001b[0m         \u001b[39m*\u001b[39;49m\u001b[39m*\u001b[39;49mfit_and_score_kwargs,\n\u001b[0;32m    856\u001b[0m     )\n\u001b[0;32m    857\u001b[0m     \u001b[39mfor\u001b[39;49;00m (cand_idx, parameters), (split_idx, (train, test)) \u001b[39min\u001b[39;49;00m product(\n\u001b[0;32m    858\u001b[0m         \u001b[39menumerate\u001b[39;49m(candidate_params), \u001b[39menumerate\u001b[39;49m(cv\u001b[39m.\u001b[39;49msplit(X, y, groups))\n\u001b[0;32m    859\u001b[0m     )\n\u001b[0;32m    860\u001b[0m )\n\u001b[0;32m    862\u001b[0m \u001b[39mif\u001b[39;00m \u001b[39mlen\u001b[39m(out) \u001b[39m<\u001b[39m \u001b[39m1\u001b[39m:\n\u001b[0;32m    863\u001b[0m     \u001b[39mraise\u001b[39;00m \u001b[39mValueError\u001b[39;00m(\n\u001b[0;32m    864\u001b[0m         \u001b[39m\"\u001b[39m\u001b[39mNo fits were performed. \u001b[39m\u001b[39m\"\u001b[39m\n\u001b[0;32m    865\u001b[0m         \u001b[39m\"\u001b[39m\u001b[39mWas the CV iterator empty? \u001b[39m\u001b[39m\"\u001b[39m\n\u001b[0;32m    866\u001b[0m         \u001b[39m\"\u001b[39m\u001b[39mWere there no candidates?\u001b[39m\u001b[39m\"\u001b[39m\n\u001b[0;32m    867\u001b[0m     )\n",
      "File \u001b[1;32mc:\\Users\\Stepan\\Documents\\Startups\\BitcoinTrading\\.venv\\lib\\site-packages\\sklearn\\utils\\parallel.py:65\u001b[0m, in \u001b[0;36mParallel.__call__\u001b[1;34m(self, iterable)\u001b[0m\n\u001b[0;32m     60\u001b[0m config \u001b[39m=\u001b[39m get_config()\n\u001b[0;32m     61\u001b[0m iterable_with_config \u001b[39m=\u001b[39m (\n\u001b[0;32m     62\u001b[0m     (_with_config(delayed_func, config), args, kwargs)\n\u001b[0;32m     63\u001b[0m     \u001b[39mfor\u001b[39;00m delayed_func, args, kwargs \u001b[39min\u001b[39;00m iterable\n\u001b[0;32m     64\u001b[0m )\n\u001b[1;32m---> 65\u001b[0m \u001b[39mreturn\u001b[39;00m \u001b[39msuper\u001b[39;49m()\u001b[39m.\u001b[39;49m\u001b[39m__call__\u001b[39;49m(iterable_with_config)\n",
      "File \u001b[1;32mc:\\Users\\Stepan\\Documents\\Startups\\BitcoinTrading\\.venv\\lib\\site-packages\\joblib\\parallel.py:1863\u001b[0m, in \u001b[0;36mParallel.__call__\u001b[1;34m(self, iterable)\u001b[0m\n\u001b[0;32m   1861\u001b[0m     output \u001b[39m=\u001b[39m \u001b[39mself\u001b[39m\u001b[39m.\u001b[39m_get_sequential_output(iterable)\n\u001b[0;32m   1862\u001b[0m     \u001b[39mnext\u001b[39m(output)\n\u001b[1;32m-> 1863\u001b[0m     \u001b[39mreturn\u001b[39;00m output \u001b[39mif\u001b[39;00m \u001b[39mself\u001b[39m\u001b[39m.\u001b[39mreturn_generator \u001b[39melse\u001b[39;00m \u001b[39mlist\u001b[39;49m(output)\n\u001b[0;32m   1865\u001b[0m \u001b[39m# Let's create an ID that uniquely identifies the current call. If the\u001b[39;00m\n\u001b[0;32m   1866\u001b[0m \u001b[39m# call is interrupted early and that the same instance is immediately\u001b[39;00m\n\u001b[0;32m   1867\u001b[0m \u001b[39m# re-used, this id will be used to prevent workers that were\u001b[39;00m\n\u001b[0;32m   1868\u001b[0m \u001b[39m# concurrently finalizing a task from the previous call to run the\u001b[39;00m\n\u001b[0;32m   1869\u001b[0m \u001b[39m# callback.\u001b[39;00m\n\u001b[0;32m   1870\u001b[0m \u001b[39mwith\u001b[39;00m \u001b[39mself\u001b[39m\u001b[39m.\u001b[39m_lock:\n",
      "File \u001b[1;32mc:\\Users\\Stepan\\Documents\\Startups\\BitcoinTrading\\.venv\\lib\\site-packages\\joblib\\parallel.py:1792\u001b[0m, in \u001b[0;36mParallel._get_sequential_output\u001b[1;34m(self, iterable)\u001b[0m\n\u001b[0;32m   1790\u001b[0m \u001b[39mself\u001b[39m\u001b[39m.\u001b[39mn_dispatched_batches \u001b[39m+\u001b[39m\u001b[39m=\u001b[39m \u001b[39m1\u001b[39m\n\u001b[0;32m   1791\u001b[0m \u001b[39mself\u001b[39m\u001b[39m.\u001b[39mn_dispatched_tasks \u001b[39m+\u001b[39m\u001b[39m=\u001b[39m \u001b[39m1\u001b[39m\n\u001b[1;32m-> 1792\u001b[0m res \u001b[39m=\u001b[39m func(\u001b[39m*\u001b[39margs, \u001b[39m*\u001b[39m\u001b[39m*\u001b[39mkwargs)\n\u001b[0;32m   1793\u001b[0m \u001b[39mself\u001b[39m\u001b[39m.\u001b[39mn_completed_tasks \u001b[39m+\u001b[39m\u001b[39m=\u001b[39m \u001b[39m1\u001b[39m\n\u001b[0;32m   1794\u001b[0m \u001b[39mself\u001b[39m\u001b[39m.\u001b[39mprint_progress()\n",
      "File \u001b[1;32mc:\\Users\\Stepan\\Documents\\Startups\\BitcoinTrading\\.venv\\lib\\site-packages\\sklearn\\utils\\parallel.py:127\u001b[0m, in \u001b[0;36m_FuncWrapper.__call__\u001b[1;34m(self, *args, **kwargs)\u001b[0m\n\u001b[0;32m    125\u001b[0m     config \u001b[39m=\u001b[39m {}\n\u001b[0;32m    126\u001b[0m \u001b[39mwith\u001b[39;00m config_context(\u001b[39m*\u001b[39m\u001b[39m*\u001b[39mconfig):\n\u001b[1;32m--> 127\u001b[0m     \u001b[39mreturn\u001b[39;00m \u001b[39mself\u001b[39m\u001b[39m.\u001b[39mfunction(\u001b[39m*\u001b[39margs, \u001b[39m*\u001b[39m\u001b[39m*\u001b[39mkwargs)\n",
      "File \u001b[1;32mc:\\Users\\Stepan\\Documents\\Startups\\BitcoinTrading\\.venv\\lib\\site-packages\\sklearn\\model_selection\\_validation.py:729\u001b[0m, in \u001b[0;36m_fit_and_score\u001b[1;34m(estimator, X, y, scorer, train, test, verbose, parameters, fit_params, return_train_score, return_parameters, return_n_test_samples, return_times, return_estimator, split_progress, candidate_progress, error_score)\u001b[0m\n\u001b[0;32m    727\u001b[0m         estimator\u001b[39m.\u001b[39mfit(X_train, \u001b[39m*\u001b[39m\u001b[39m*\u001b[39mfit_params)\n\u001b[0;32m    728\u001b[0m     \u001b[39melse\u001b[39;00m:\n\u001b[1;32m--> 729\u001b[0m         estimator\u001b[39m.\u001b[39mfit(X_train, y_train, \u001b[39m*\u001b[39m\u001b[39m*\u001b[39mfit_params)\n\u001b[0;32m    731\u001b[0m \u001b[39mexcept\u001b[39;00m \u001b[39mException\u001b[39;00m:\n\u001b[0;32m    732\u001b[0m     \u001b[39m# Note fit time as time until error\u001b[39;00m\n\u001b[0;32m    733\u001b[0m     fit_time \u001b[39m=\u001b[39m time\u001b[39m.\u001b[39mtime() \u001b[39m-\u001b[39m start_time\n",
      "File \u001b[1;32mc:\\Users\\Stepan\\Documents\\Startups\\BitcoinTrading\\.venv\\lib\\site-packages\\catboost\\core.py:5703\u001b[0m, in \u001b[0;36mCatBoostRegressor.fit\u001b[1;34m(self, X, y, cat_features, text_features, embedding_features, sample_weight, baseline, use_best_model, eval_set, verbose, logging_level, plot, plot_file, column_description, verbose_eval, metric_period, silent, early_stopping_rounds, save_snapshot, snapshot_file, snapshot_interval, init_model, callbacks, log_cout, log_cerr)\u001b[0m\n\u001b[0;32m   5700\u001b[0m \u001b[39mif\u001b[39;00m \u001b[39m'\u001b[39m\u001b[39mloss_function\u001b[39m\u001b[39m'\u001b[39m \u001b[39min\u001b[39;00m params:\n\u001b[0;32m   5701\u001b[0m     CatBoostRegressor\u001b[39m.\u001b[39m_check_is_compatible_loss(params[\u001b[39m'\u001b[39m\u001b[39mloss_function\u001b[39m\u001b[39m'\u001b[39m])\n\u001b[1;32m-> 5703\u001b[0m \u001b[39mreturn\u001b[39;00m \u001b[39mself\u001b[39;49m\u001b[39m.\u001b[39;49m_fit(X, y, cat_features, text_features, embedding_features, \u001b[39mNone\u001b[39;49;00m, sample_weight, \u001b[39mNone\u001b[39;49;00m, \u001b[39mNone\u001b[39;49;00m, \u001b[39mNone\u001b[39;49;00m, \u001b[39mNone\u001b[39;49;00m, baseline,\n\u001b[0;32m   5704\u001b[0m                  use_best_model, eval_set, verbose, logging_level, plot, plot_file, column_description,\n\u001b[0;32m   5705\u001b[0m                  verbose_eval, metric_period, silent, early_stopping_rounds,\n\u001b[0;32m   5706\u001b[0m                  save_snapshot, snapshot_file, snapshot_interval, init_model, callbacks, log_cout, log_cerr)\n",
      "File \u001b[1;32mc:\\Users\\Stepan\\Documents\\Startups\\BitcoinTrading\\.venv\\lib\\site-packages\\catboost\\core.py:2319\u001b[0m, in \u001b[0;36mCatBoost._fit\u001b[1;34m(self, X, y, cat_features, text_features, embedding_features, pairs, sample_weight, group_id, group_weight, subgroup_id, pairs_weight, baseline, use_best_model, eval_set, verbose, logging_level, plot, plot_file, column_description, verbose_eval, metric_period, silent, early_stopping_rounds, save_snapshot, snapshot_file, snapshot_interval, init_model, callbacks, log_cout, log_cerr)\u001b[0m\n\u001b[0;32m   2315\u001b[0m allow_clear_pool \u001b[39m=\u001b[39m train_params[\u001b[39m\"\u001b[39m\u001b[39mallow_clear_pool\u001b[39m\u001b[39m\"\u001b[39m]\n\u001b[0;32m   2317\u001b[0m \u001b[39mwith\u001b[39;00m log_fixup(log_cout, log_cerr), \\\n\u001b[0;32m   2318\u001b[0m     plot_wrapper(plot, plot_file, \u001b[39m'\u001b[39m\u001b[39mTraining plots\u001b[39m\u001b[39m'\u001b[39m, [_get_train_dir(\u001b[39mself\u001b[39m\u001b[39m.\u001b[39mget_params())]):\n\u001b[1;32m-> 2319\u001b[0m     \u001b[39mself\u001b[39;49m\u001b[39m.\u001b[39;49m_train(\n\u001b[0;32m   2320\u001b[0m         train_pool,\n\u001b[0;32m   2321\u001b[0m         train_params[\u001b[39m\"\u001b[39;49m\u001b[39meval_sets\u001b[39;49m\u001b[39m\"\u001b[39;49m],\n\u001b[0;32m   2322\u001b[0m         params,\n\u001b[0;32m   2323\u001b[0m         allow_clear_pool,\n\u001b[0;32m   2324\u001b[0m         train_params[\u001b[39m\"\u001b[39;49m\u001b[39minit_model\u001b[39;49m\u001b[39m\"\u001b[39;49m]\n\u001b[0;32m   2325\u001b[0m     )\n\u001b[0;32m   2327\u001b[0m \u001b[39m# Have property feature_importance possibly set\u001b[39;00m\n\u001b[0;32m   2328\u001b[0m loss \u001b[39m=\u001b[39m \u001b[39mself\u001b[39m\u001b[39m.\u001b[39m_object\u001b[39m.\u001b[39m_get_loss_function_name()\n",
      "File \u001b[1;32mc:\\Users\\Stepan\\Documents\\Startups\\BitcoinTrading\\.venv\\lib\\site-packages\\catboost\\core.py:1723\u001b[0m, in \u001b[0;36m_CatBoostBase._train\u001b[1;34m(self, train_pool, test_pool, params, allow_clear_pool, init_model)\u001b[0m\n\u001b[0;32m   1722\u001b[0m \u001b[39mdef\u001b[39;00m \u001b[39m_train\u001b[39m(\u001b[39mself\u001b[39m, train_pool, test_pool, params, allow_clear_pool, init_model):\n\u001b[1;32m-> 1723\u001b[0m     \u001b[39mself\u001b[39;49m\u001b[39m.\u001b[39;49m_object\u001b[39m.\u001b[39;49m_train(train_pool, test_pool, params, allow_clear_pool, init_model\u001b[39m.\u001b[39;49m_object \u001b[39mif\u001b[39;49;00m init_model \u001b[39melse\u001b[39;49;00m \u001b[39mNone\u001b[39;49;00m)\n\u001b[0;32m   1724\u001b[0m     \u001b[39mself\u001b[39m\u001b[39m.\u001b[39m_set_trained_model_attributes()\n",
      "File \u001b[1;32m_catboost.pyx:4645\u001b[0m, in \u001b[0;36m_catboost._CatBoost._train\u001b[1;34m()\u001b[0m\n",
      "File \u001b[1;32m_catboost.pyx:4694\u001b[0m, in \u001b[0;36m_catboost._CatBoost._train\u001b[1;34m()\u001b[0m\n",
      "\u001b[1;31mKeyboardInterrupt\u001b[0m: "
     ]
    }
   ],
   "source": [
    "from sklearn.model_selection import GridSearchCV, TimeSeriesSplit\n",
    "\n",
    "# Initialize CatBoostClassifier\n",
    "model = CatBoostRegressor(verbose=0, use_best_model=True)\n",
    "\n",
    "# Define the parameter grid\n",
    "param_grid = {\n",
    "    'iterations': [100, 200, 400],\n",
    "    'depth': [4, 6],\n",
    "    'learning_rate': [0.01, 0.05],\n",
    "    'l2_leaf_reg': [1, 3, 5],\n",
    "    # 'iterations': [100, 200, 500],\n",
    "    # 'depth': [4, 6, 8, 10],\n",
    "    # 'learning_rate': [0.01, 0.05, 0.1, 0.3],\n",
    "    # 'l2_leaf_reg': [1, 3, 5, 7, 9],\n",
    "    # 'border_count': [32, 64, 128],\n",
    "    # 'ctr_border_count': [50, 100, 200],\n",
    "    # 'thread_count': [4, 8, 16]\n",
    "    # You can add more parameters here\n",
    "}\n",
    "\n",
    "tscv = TimeSeriesSplit(n_splits=3)\n",
    "\n",
    "# Set up GridSearchCV\n",
    "grid = GridSearchCV(estimator=model, param_grid=param_grid, cv=tscv, scoring='neg_mean_absolute_error', verbose=3)\n",
    "\n",
    "# Fit the model\n",
    "grid.fit(X_subtracted_train, #[summary['selected_features_names']],  # \n",
    "        y_subtracted_train,\n",
    "        eval_set=(X_subtracted_val, y_subtracted_val))\n",
    "print(\"Best parameters found: \", grid.best_params_)\n",
    "print(\"Best MAE found: \", -grid.best_score_)"
   ]
  },
  {
   "cell_type": "code",
   "execution_count": null,
   "metadata": {},
   "outputs": [
    {
     "data": {
      "text/plain": [
       "8.594079201857685"
      ]
     },
     "execution_count": 100,
     "metadata": {},
     "output_type": "execute_result"
    }
   ],
   "source": [
    "mean_absolute_error(y_subtracted_val, y_val_pred)"
   ]
  },
  {
   "cell_type": "code",
   "execution_count": null,
   "metadata": {},
   "outputs": [
    {
     "data": {
      "text/html": [
       "<div>\n",
       "<style scoped>\n",
       "    .dataframe tbody tr th:only-of-type {\n",
       "        vertical-align: middle;\n",
       "    }\n",
       "\n",
       "    .dataframe tbody tr th {\n",
       "        vertical-align: top;\n",
       "    }\n",
       "\n",
       "    .dataframe thead th {\n",
       "        text-align: right;\n",
       "    }\n",
       "</style>\n",
       "<table border=\"1\" class=\"dataframe\">\n",
       "  <thead>\n",
       "    <tr style=\"text-align: right;\">\n",
       "      <th></th>\n",
       "      <th>Feature Id</th>\n",
       "      <th>Importances</th>\n",
       "    </tr>\n",
       "  </thead>\n",
       "  <tbody>\n",
       "    <tr>\n",
       "      <th>0</th>\n",
       "      <td>Volume_1min_before</td>\n",
       "      <td>24.020672</td>\n",
       "    </tr>\n",
       "    <tr>\n",
       "      <th>1</th>\n",
       "      <td>Low_1min_before</td>\n",
       "      <td>23.699252</td>\n",
       "    </tr>\n",
       "    <tr>\n",
       "      <th>2</th>\n",
       "      <td>Volume_4min_before</td>\n",
       "      <td>19.914497</td>\n",
       "    </tr>\n",
       "    <tr>\n",
       "      <th>3</th>\n",
       "      <td>High_1min_before</td>\n",
       "      <td>8.641880</td>\n",
       "    </tr>\n",
       "    <tr>\n",
       "      <th>4</th>\n",
       "      <td>Volume_5min_before</td>\n",
       "      <td>6.963142</td>\n",
       "    </tr>\n",
       "    <tr>\n",
       "      <th>5</th>\n",
       "      <td>Volume_2min_before</td>\n",
       "      <td>4.366393</td>\n",
       "    </tr>\n",
       "    <tr>\n",
       "      <th>6</th>\n",
       "      <td>Close_4min_before</td>\n",
       "      <td>3.011277</td>\n",
       "    </tr>\n",
       "    <tr>\n",
       "      <th>7</th>\n",
       "      <td>Close_5min_before</td>\n",
       "      <td>1.940104</td>\n",
       "    </tr>\n",
       "    <tr>\n",
       "      <th>8</th>\n",
       "      <td>High_4min_before</td>\n",
       "      <td>1.596777</td>\n",
       "    </tr>\n",
       "    <tr>\n",
       "      <th>9</th>\n",
       "      <td>Open_5min_before</td>\n",
       "      <td>1.467113</td>\n",
       "    </tr>\n",
       "    <tr>\n",
       "      <th>10</th>\n",
       "      <td>Volume_3min_before</td>\n",
       "      <td>1.249758</td>\n",
       "    </tr>\n",
       "    <tr>\n",
       "      <th>11</th>\n",
       "      <td>Close_2min_before</td>\n",
       "      <td>1.071686</td>\n",
       "    </tr>\n",
       "    <tr>\n",
       "      <th>12</th>\n",
       "      <td>Low_4min_before</td>\n",
       "      <td>0.874409</td>\n",
       "    </tr>\n",
       "    <tr>\n",
       "      <th>13</th>\n",
       "      <td>Open</td>\n",
       "      <td>0.766212</td>\n",
       "    </tr>\n",
       "    <tr>\n",
       "      <th>14</th>\n",
       "      <td>Open_1min_before</td>\n",
       "      <td>0.416827</td>\n",
       "    </tr>\n",
       "    <tr>\n",
       "      <th>15</th>\n",
       "      <td>Close_1min_before</td>\n",
       "      <td>0.000000</td>\n",
       "    </tr>\n",
       "    <tr>\n",
       "      <th>16</th>\n",
       "      <td>Open_2min_before</td>\n",
       "      <td>0.000000</td>\n",
       "    </tr>\n",
       "    <tr>\n",
       "      <th>17</th>\n",
       "      <td>High_2min_before</td>\n",
       "      <td>0.000000</td>\n",
       "    </tr>\n",
       "    <tr>\n",
       "      <th>18</th>\n",
       "      <td>Low_2min_before</td>\n",
       "      <td>0.000000</td>\n",
       "    </tr>\n",
       "    <tr>\n",
       "      <th>19</th>\n",
       "      <td>Open_3min_before</td>\n",
       "      <td>0.000000</td>\n",
       "    </tr>\n",
       "    <tr>\n",
       "      <th>20</th>\n",
       "      <td>High_3min_before</td>\n",
       "      <td>0.000000</td>\n",
       "    </tr>\n",
       "    <tr>\n",
       "      <th>21</th>\n",
       "      <td>Low_3min_before</td>\n",
       "      <td>0.000000</td>\n",
       "    </tr>\n",
       "    <tr>\n",
       "      <th>22</th>\n",
       "      <td>Close_3min_before</td>\n",
       "      <td>0.000000</td>\n",
       "    </tr>\n",
       "    <tr>\n",
       "      <th>23</th>\n",
       "      <td>Open_4min_before</td>\n",
       "      <td>0.000000</td>\n",
       "    </tr>\n",
       "    <tr>\n",
       "      <th>24</th>\n",
       "      <td>High_5min_before</td>\n",
       "      <td>0.000000</td>\n",
       "    </tr>\n",
       "    <tr>\n",
       "      <th>25</th>\n",
       "      <td>Low_5min_before</td>\n",
       "      <td>0.000000</td>\n",
       "    </tr>\n",
       "  </tbody>\n",
       "</table>\n",
       "</div>"
      ],
      "text/plain": [
       "            Feature Id  Importances\n",
       "0   Volume_1min_before    24.020672\n",
       "1      Low_1min_before    23.699252\n",
       "2   Volume_4min_before    19.914497\n",
       "3     High_1min_before     8.641880\n",
       "4   Volume_5min_before     6.963142\n",
       "5   Volume_2min_before     4.366393\n",
       "6    Close_4min_before     3.011277\n",
       "7    Close_5min_before     1.940104\n",
       "8     High_4min_before     1.596777\n",
       "9     Open_5min_before     1.467113\n",
       "10  Volume_3min_before     1.249758\n",
       "11   Close_2min_before     1.071686\n",
       "12     Low_4min_before     0.874409\n",
       "13                Open     0.766212\n",
       "14    Open_1min_before     0.416827\n",
       "15   Close_1min_before     0.000000\n",
       "16    Open_2min_before     0.000000\n",
       "17    High_2min_before     0.000000\n",
       "18     Low_2min_before     0.000000\n",
       "19    Open_3min_before     0.000000\n",
       "20    High_3min_before     0.000000\n",
       "21     Low_3min_before     0.000000\n",
       "22   Close_3min_before     0.000000\n",
       "23    Open_4min_before     0.000000\n",
       "24    High_5min_before     0.000000\n",
       "25     Low_5min_before     0.000000"
      ]
     },
     "execution_count": 76,
     "metadata": {},
     "output_type": "execute_result"
    }
   ],
   "source": [
    "final_model.get_feature_importance(prettified=True)"
   ]
  },
  {
   "cell_type": "code",
   "execution_count": null,
   "metadata": {},
   "outputs": [
    {
     "data": {
      "text/plain": [
       "8.589953394906397"
      ]
     },
     "execution_count": 77,
     "metadata": {},
     "output_type": "execute_result"
    }
   ],
   "source": [
    "mean_absolute_error(y_val, y_val_pred + X_val['Close_1min_before'])"
   ]
  },
  {
   "cell_type": "code",
   "execution_count": null,
   "metadata": {},
   "outputs": [
    {
     "data": {
      "text/plain": [
       "8.581495833333356"
      ]
     },
     "execution_count": 101,
     "metadata": {},
     "output_type": "execute_result"
    }
   ],
   "source": [
    "mean_absolute_error(y_val, X_val['Close_1min_before'])"
   ]
  },
  {
   "cell_type": "code",
   "execution_count": null,
   "metadata": {},
   "outputs": [
    {
     "data": {
      "text/plain": [
       "8.732093194018614"
      ]
     },
     "execution_count": 80,
     "metadata": {},
     "output_type": "execute_result"
    }
   ],
   "source": [
    "mean_absolute_error(y, X['Close_1min_before'])"
   ]
  },
  {
   "cell_type": "code",
   "execution_count": 39,
   "metadata": {},
   "outputs": [],
   "source": [
    "from sklearn.linear_model import LinearRegression, Ridge, SGDClassifier"
   ]
  },
  {
   "cell_type": "code",
   "execution_count": 46,
   "metadata": {},
   "outputs": [],
   "source": [
    "import random\n",
    "from tqdm import tqdm\n",
    "from itertools import product\n",
    "\n",
    "def enchance_features(data, capacity=300):\n",
    "    new_features = []\n",
    "    columns = data.columns\n",
    "    def sub(x, y):\n",
    "        return data[x] - data[y]\n",
    "    def add(x, y):\n",
    "        return data[x] - data[y]\n",
    "    def mult(x, y):\n",
    "        return data[x] * data[y]\n",
    "    def div(x, y):\n",
    "        return data[x] / (data[y] + 1e-6)\n",
    "    def log(x, y):\n",
    "        return np.sign(data[x]) * np.log(np.abs(data[x]))\n",
    "    def exp(x, y):\n",
    "        return np.exp(data[x])\n",
    "    \n",
    "\n",
    "    for args in tqdm(product(columns, repeat=2)):\n",
    "        for func in [sub, add, mult, div, log, exp]:\n",
    "            new_features.append(pd.Series(func(*args), name=f'{func.__name__}({args[0]}, {args[1]})'))\n",
    "            if len(new_features) >= capacity:\n",
    "                return new_features\n",
    "    \n",
    "    return new_features"
   ]
  },
  {
   "cell_type": "code",
   "execution_count": 47,
   "metadata": {},
   "outputs": [
    {
     "name": "stderr",
     "output_type": "stream",
     "text": [
      "0it [00:00, ?it/s]c:\\Users\\Stepan\\Documents\\Startups\\BitcoinTrading\\.venv\\lib\\site-packages\\pandas\\core\\arraylike.py:396: RuntimeWarning: divide by zero encountered in log\n",
      "  result = getattr(ufunc, method)(*inputs, **kwargs)\n",
      "24it [00:00, 38.24it/s]c:\\Users\\Stepan\\Documents\\Startups\\BitcoinTrading\\.venv\\lib\\site-packages\\pandas\\core\\arraylike.py:396: RuntimeWarning: overflow encountered in exp\n",
      "  result = getattr(ufunc, method)(*inputs, **kwargs)\n",
      "49it [00:01, 43.93it/s]\n",
      "49it [00:00, 583.08it/s]\n"
     ]
    }
   ],
   "source": [
    "new_X_train_features = enchance_features(X_subtracted_train)\n",
    "new_X_val_features = enchance_features(X_subtracted_val)"
   ]
  },
  {
   "cell_type": "code",
   "execution_count": 48,
   "metadata": {},
   "outputs": [],
   "source": [
    "_slice = slice(0, 300)\n",
    "\n",
    "X_subtracted_and_enchanced_train = pd.concat([X_subtracted_train] + new_X_train_features[_slice], axis=1)\n",
    "X_subtracted_and_enchanced_val = pd.concat([X_subtracted_val] + new_X_val_features[_slice], axis=1)"
   ]
  },
  {
   "cell_type": "code",
   "execution_count": 49,
   "metadata": {},
   "outputs": [
    {
     "data": {
      "text/html": [
       "<div>\n",
       "<style scoped>\n",
       "    .dataframe tbody tr th:only-of-type {\n",
       "        vertical-align: middle;\n",
       "    }\n",
       "\n",
       "    .dataframe tbody tr th {\n",
       "        vertical-align: top;\n",
       "    }\n",
       "\n",
       "    .dataframe thead th {\n",
       "        text-align: right;\n",
       "    }\n",
       "</style>\n",
       "<table border=\"1\" class=\"dataframe\">\n",
       "  <thead>\n",
       "    <tr style=\"text-align: right;\">\n",
       "      <th></th>\n",
       "      <th>Open</th>\n",
       "      <th>Open_1min_before</th>\n",
       "      <th>High_1min_before</th>\n",
       "      <th>Low_1min_before</th>\n",
       "      <th>Close_1min_before</th>\n",
       "      <th>Volume_1min_before</th>\n",
       "      <th>Open_2min_before</th>\n",
       "      <th>High_2min_before</th>\n",
       "      <th>Low_2min_before</th>\n",
       "      <th>Close_2min_before</th>\n",
       "      <th>...</th>\n",
       "      <th>mult(Open_1min_before, High_5min_before)</th>\n",
       "      <th>div(Open_1min_before, High_5min_before)</th>\n",
       "      <th>log(Open_1min_before, High_5min_before)</th>\n",
       "      <th>exp(Open_1min_before, High_5min_before)</th>\n",
       "      <th>sub(Open_1min_before, Low_5min_before)</th>\n",
       "      <th>add(Open_1min_before, Low_5min_before)</th>\n",
       "      <th>mult(Open_1min_before, Low_5min_before)</th>\n",
       "      <th>div(Open_1min_before, Low_5min_before)</th>\n",
       "      <th>log(Open_1min_before, Low_5min_before)</th>\n",
       "      <th>exp(Open_1min_before, Low_5min_before)</th>\n",
       "    </tr>\n",
       "  </thead>\n",
       "  <tbody>\n",
       "    <tr>\n",
       "      <th>5</th>\n",
       "      <td>-1.16</td>\n",
       "      <td>20.73</td>\n",
       "      <td>22.39</td>\n",
       "      <td>-17.57</td>\n",
       "      <td>0.0</td>\n",
       "      <td>309.61303</td>\n",
       "      <td>28.53</td>\n",
       "      <td>30.99</td>\n",
       "      <td>18.14</td>\n",
       "      <td>19.71</td>\n",
       "      <td>...</td>\n",
       "      <td>1101.1776</td>\n",
       "      <td>0.390248</td>\n",
       "      <td>3.031582</td>\n",
       "      <td>1.006757e+09</td>\n",
       "      <td>-6.61</td>\n",
       "      <td>-6.61</td>\n",
       "      <td>566.7582</td>\n",
       "      <td>0.758230</td>\n",
       "      <td>3.031582</td>\n",
       "      <td>1.006757e+09</td>\n",
       "    </tr>\n",
       "    <tr>\n",
       "      <th>6</th>\n",
       "      <td>0.00</td>\n",
       "      <td>-22.65</td>\n",
       "      <td>4.16</td>\n",
       "      <td>-38.09</td>\n",
       "      <td>0.0</td>\n",
       "      <td>179.98974</td>\n",
       "      <td>-0.76</td>\n",
       "      <td>0.90</td>\n",
       "      <td>-39.06</td>\n",
       "      <td>-21.49</td>\n",
       "      <td>...</td>\n",
       "      <td>-530.2365</td>\n",
       "      <td>-0.967535</td>\n",
       "      <td>-3.120160</td>\n",
       "      <td>1.456230e-10</td>\n",
       "      <td>-31.62</td>\n",
       "      <td>-31.62</td>\n",
       "      <td>-203.1705</td>\n",
       "      <td>-2.525083</td>\n",
       "      <td>-3.120160</td>\n",
       "      <td>1.456230e-10</td>\n",
       "    </tr>\n",
       "    <tr>\n",
       "      <th>7</th>\n",
       "      <td>-0.06</td>\n",
       "      <td>-44.75</td>\n",
       "      <td>16.71</td>\n",
       "      <td>-51.48</td>\n",
       "      <td>0.0</td>\n",
       "      <td>481.11856</td>\n",
       "      <td>-67.40</td>\n",
       "      <td>-40.59</td>\n",
       "      <td>-82.84</td>\n",
       "      <td>-44.75</td>\n",
       "      <td>...</td>\n",
       "      <td>1212.7250</td>\n",
       "      <td>1.651292</td>\n",
       "      <td>-3.801091</td>\n",
       "      <td>3.675547e-20</td>\n",
       "      <td>-6.60</td>\n",
       "      <td>-6.60</td>\n",
       "      <td>1707.2125</td>\n",
       "      <td>1.173001</td>\n",
       "      <td>-3.801091</td>\n",
       "      <td>3.675547e-20</td>\n",
       "    </tr>\n",
       "    <tr>\n",
       "      <th>8</th>\n",
       "      <td>0.58</td>\n",
       "      <td>20.21</td>\n",
       "      <td>20.21</td>\n",
       "      <td>-4.01</td>\n",
       "      <td>0.0</td>\n",
       "      <td>196.06623</td>\n",
       "      <td>-24.48</td>\n",
       "      <td>36.98</td>\n",
       "      <td>-31.21</td>\n",
       "      <td>20.27</td>\n",
       "      <td>...</td>\n",
       "      <td>-302.7458</td>\n",
       "      <td>-1.349132</td>\n",
       "      <td>3.006178</td>\n",
       "      <td>5.985377e+08</td>\n",
       "      <td>48.04</td>\n",
       "      <td>48.04</td>\n",
       "      <td>-562.4443</td>\n",
       "      <td>-0.726195</td>\n",
       "      <td>3.006178</td>\n",
       "      <td>5.985377e+08</td>\n",
       "    </tr>\n",
       "    <tr>\n",
       "      <th>9</th>\n",
       "      <td>0.00</td>\n",
       "      <td>-2.67</td>\n",
       "      <td>10.58</td>\n",
       "      <td>-4.55</td>\n",
       "      <td>0.0</td>\n",
       "      <td>104.67781</td>\n",
       "      <td>16.96</td>\n",
       "      <td>16.96</td>\n",
       "      <td>-7.26</td>\n",
       "      <td>-3.25</td>\n",
       "      <td>...</td>\n",
       "      <td>71.6361</td>\n",
       "      <td>0.099515</td>\n",
       "      <td>-0.982078</td>\n",
       "      <td>6.925223e-02</td>\n",
       "      <td>64.12</td>\n",
       "      <td>64.12</td>\n",
       "      <td>178.3293</td>\n",
       "      <td>0.039976</td>\n",
       "      <td>-0.982078</td>\n",
       "      <td>6.925223e-02</td>\n",
       "    </tr>\n",
       "  </tbody>\n",
       "</table>\n",
       "<p>5 rows × 326 columns</p>\n",
       "</div>"
      ],
      "text/plain": [
       "   Open  Open_1min_before  High_1min_before  Low_1min_before  \\\n",
       "5 -1.16             20.73             22.39           -17.57   \n",
       "6  0.00            -22.65              4.16           -38.09   \n",
       "7 -0.06            -44.75             16.71           -51.48   \n",
       "8  0.58             20.21             20.21            -4.01   \n",
       "9  0.00             -2.67             10.58            -4.55   \n",
       "\n",
       "   Close_1min_before  Volume_1min_before  Open_2min_before  High_2min_before  \\\n",
       "5                0.0           309.61303             28.53             30.99   \n",
       "6                0.0           179.98974             -0.76              0.90   \n",
       "7                0.0           481.11856            -67.40            -40.59   \n",
       "8                0.0           196.06623            -24.48             36.98   \n",
       "9                0.0           104.67781             16.96             16.96   \n",
       "\n",
       "   Low_2min_before  Close_2min_before  ...  \\\n",
       "5            18.14              19.71  ...   \n",
       "6           -39.06             -21.49  ...   \n",
       "7           -82.84             -44.75  ...   \n",
       "8           -31.21              20.27  ...   \n",
       "9            -7.26              -3.25  ...   \n",
       "\n",
       "   mult(Open_1min_before, High_5min_before)  \\\n",
       "5                                 1101.1776   \n",
       "6                                 -530.2365   \n",
       "7                                 1212.7250   \n",
       "8                                 -302.7458   \n",
       "9                                   71.6361   \n",
       "\n",
       "   div(Open_1min_before, High_5min_before)  \\\n",
       "5                                 0.390248   \n",
       "6                                -0.967535   \n",
       "7                                 1.651292   \n",
       "8                                -1.349132   \n",
       "9                                 0.099515   \n",
       "\n",
       "   log(Open_1min_before, High_5min_before)  \\\n",
       "5                                 3.031582   \n",
       "6                                -3.120160   \n",
       "7                                -3.801091   \n",
       "8                                 3.006178   \n",
       "9                                -0.982078   \n",
       "\n",
       "   exp(Open_1min_before, High_5min_before)  \\\n",
       "5                             1.006757e+09   \n",
       "6                             1.456230e-10   \n",
       "7                             3.675547e-20   \n",
       "8                             5.985377e+08   \n",
       "9                             6.925223e-02   \n",
       "\n",
       "   sub(Open_1min_before, Low_5min_before)  \\\n",
       "5                                   -6.61   \n",
       "6                                  -31.62   \n",
       "7                                   -6.60   \n",
       "8                                   48.04   \n",
       "9                                   64.12   \n",
       "\n",
       "   add(Open_1min_before, Low_5min_before)  \\\n",
       "5                                   -6.61   \n",
       "6                                  -31.62   \n",
       "7                                   -6.60   \n",
       "8                                   48.04   \n",
       "9                                   64.12   \n",
       "\n",
       "   mult(Open_1min_before, Low_5min_before)  \\\n",
       "5                                 566.7582   \n",
       "6                                -203.1705   \n",
       "7                                1707.2125   \n",
       "8                                -562.4443   \n",
       "9                                 178.3293   \n",
       "\n",
       "   div(Open_1min_before, Low_5min_before)  \\\n",
       "5                                0.758230   \n",
       "6                               -2.525083   \n",
       "7                                1.173001   \n",
       "8                               -0.726195   \n",
       "9                                0.039976   \n",
       "\n",
       "   log(Open_1min_before, Low_5min_before)  \\\n",
       "5                                3.031582   \n",
       "6                               -3.120160   \n",
       "7                               -3.801091   \n",
       "8                                3.006178   \n",
       "9                               -0.982078   \n",
       "\n",
       "   exp(Open_1min_before, Low_5min_before)  \n",
       "5                            1.006757e+09  \n",
       "6                            1.456230e-10  \n",
       "7                            3.675547e-20  \n",
       "8                            5.985377e+08  \n",
       "9                            6.925223e-02  \n",
       "\n",
       "[5 rows x 326 columns]"
      ]
     },
     "execution_count": 49,
     "metadata": {},
     "output_type": "execute_result"
    }
   ],
   "source": [
    "X_subtracted_and_enchanced_train.head()"
   ]
  },
  {
   "cell_type": "code",
   "execution_count": 58,
   "metadata": {},
   "outputs": [],
   "source": [
    "X_subtracted_and_enchanced_train = X_subtracted_and_enchanced_train.fillna(0).replace([np.inf, -np.inf], 0)\n",
    "X_subtracted_and_enchanced_val = X_subtracted_and_enchanced_val.fillna(0).replace([np.inf, -np.inf], 0)"
   ]
  },
  {
   "cell_type": "code",
   "execution_count": 59,
   "metadata": {},
   "outputs": [
    {
     "name": "stdout",
     "output_type": "stream",
     "text": [
      "-----Predicting with the reduced set model-----------\n",
      "MAE on validation set: 8.6105\n",
      "baseline MAE on validation set: 8.5815\n"
     ]
    }
   ],
   "source": [
    "linear_model = LinearRegression()\n",
    "linear_model.fit(X_subtracted_train, #[summary['selected_features_names']],  # \n",
    "                y_subtracted_train) # [summary['selected_features_names']]\n",
    "\n",
    "print(\"-----Predicting with the reduced set model-----------\")\n",
    "y_val_pred = linear_model.predict(X_subtracted_val) # [summary['selected_features_names']]\n",
    "y_val_mae = mean_absolute_error(y_subtracted_val, y_val_pred)\n",
    "print(f\"MAE on validation set: {np.round(y_val_mae, 4)}\")\n",
    "print(f\"baseline MAE on validation set: {np.round(mean_absolute_error(y_val, X_val['Close_1min_before']), 4)}\")\n"
   ]
  },
  {
   "cell_type": "code",
   "execution_count": 60,
   "metadata": {},
   "outputs": [
    {
     "name": "stdout",
     "output_type": "stream",
     "text": [
      "-----Predicting with the reduced set model-----------\n",
      "MAE on validation set: 8.5825\n",
      "baseline MAE on validation set: 8.5815\n"
     ]
    }
   ],
   "source": [
    "linear_model = LinearRegression()\n",
    "linear_model.fit(X_subtracted_and_enchanced_train, #[summary['selected_features_names']],  # \n",
    "                y_subtracted_train) # [summary['selected_features_names']]\n",
    "\n",
    "print(\"-----Predicting with the reduced set model-----------\")\n",
    "y_val_pred = linear_model.predict(X_subtracted_and_enchanced_val) # [summary['selected_features_names']]\n",
    "y_val_mae = mean_absolute_error(y_subtracted_val, y_val_pred)\n",
    "print(f\"MAE on validation set: {np.round(y_val_mae, 4)}\")\n",
    "print(f\"baseline MAE on validation set: {np.round(mean_absolute_error(y_val, X_val['Close_1min_before']), 4)}\")"
   ]
  },
  {
   "cell_type": "code",
   "execution_count": null,
   "metadata": {},
   "outputs": [
    {
     "data": {
      "text/plain": [
       "(array([ 5.28821382e-01, -1.34892879e-01, -1.83670590e-02,  1.62428125e-02,\n",
       "         4.90220405e-01,  1.35264150e-03,  3.17308954e-01,  1.17343640e-02,\n",
       "        -1.65024884e-02,  1.07900640e-01, -7.36345528e-04, -1.95215762e-01,\n",
       "        -2.95897305e-02, -1.06487619e-02, -2.90189160e-01,  5.16215037e-04,\n",
       "        -1.14009487e-01,  1.87318664e-02, -7.33027189e-03,  2.08591998e-01,\n",
       "        -1.20859546e-03, -1.59885045e-02,  1.81535096e-02,  8.23722542e-03,\n",
       "         1.06774734e-01,  1.92478308e-04]),\n",
       " 0.3628515361051541)"
      ]
     },
     "execution_count": 107,
     "metadata": {},
     "output_type": "execute_result"
    }
   ],
   "source": [
    "linear_model.coef_, linear_model.intercept_"
   ]
  },
  {
   "cell_type": "code",
   "execution_count": null,
   "metadata": {},
   "outputs": [
    {
     "data": {
      "text/plain": [
       "Index(['Open', 'Open_1min_before', 'High_1min_before', 'Low_1min_before',\n",
       "       'Close_1min_before', 'Volume_1min_before', 'Open_2min_before',\n",
       "       'High_2min_before', 'Low_2min_before', 'Close_2min_before',\n",
       "       'Volume_2min_before', 'Open_3min_before', 'High_3min_before',\n",
       "       'Low_3min_before', 'Close_3min_before', 'Volume_3min_before',\n",
       "       'Open_4min_before', 'High_4min_before', 'Low_4min_before',\n",
       "       'Close_4min_before', 'Volume_4min_before', 'Open_5min_before',\n",
       "       'High_5min_before', 'Low_5min_before', 'Close_5min_before',\n",
       "       'Volume_5min_before'],\n",
       "      dtype='object')"
      ]
     },
     "execution_count": 112,
     "metadata": {},
     "output_type": "execute_result"
    }
   ],
   "source": [
    "X.columns"
   ]
  },
  {
   "cell_type": "code",
   "execution_count": null,
   "metadata": {},
   "outputs": [
    {
     "name": "stdout",
     "output_type": "stream",
     "text": [
      "-----Predicting with the reduced set model-----------\n",
      "MAE on validation set: 8.6108\n",
      "baseline MAE on validation set: 8.5815\n",
      "MAE on train set: 8.7453\n",
      "baseline MAE on train set: 8.7321\n"
     ]
    }
   ],
   "source": [
    "linear_model = Ridge()\n",
    "linear_model.fit(X_train, #[summary['selected_features_names']],  # \n",
    "                y_train) # [summary['selected_features_names']]\n",
    "\n",
    "print(\"-----Predicting with the reduced set model-----------\")\n",
    "y_val_pred = linear_model.predict(X_val) # [summary['selected_features_names']]\n",
    "y_val_mae = mean_absolute_error(y_val, y_val_pred)\n",
    "print(f\"MAE on validation set: {np.round(y_val_mae, 4)}\")\n",
    "print(f\"baseline MAE on validation set: {np.round(mean_absolute_error(y_val, X_val['Close_1min_before']), 4)}\")\n",
    "\n",
    "y_train_mae = mean_absolute_error(y, linear_model.predict(X))\n",
    "print(f\"MAE on train set: {np.round(y_train_mae, 4)}\")\n",
    "print(f\"baseline MAE on train set: {np.round(mean_absolute_error(y, X['Close_1min_before']), 4)}\")"
   ]
  },
  {
   "cell_type": "code",
   "execution_count": null,
   "metadata": {},
   "outputs": [],
   "source": [
    "# linear_model = SGDClassifier(penalty='l1')\n",
    "# linear_model.fit(X_train, #[summary['selected_features_names']],  # \n",
    "#                 y_train) # [summary['selected_features_names']]\n",
    "\n",
    "# print(\"-----Predicting with the reduced set model-----------\")\n",
    "# y_val_pred = linear_model.predict(X_val) # [summary['selected_features_names']]\n",
    "# y_val_mae = mean_absolute_error(y_val, y_val_pred)\n",
    "# print(f\"MAE on validation set: {np.round(y_val_mae, 4)}\")\n",
    "# print(f\"baseline MAE on validation set: {np.round(mean_absolute_error(y_val, X_val['Close_1min_before']), 4)}\")\n",
    "\n",
    "# y_train_mae = mean_absolute_error(y, linear_model.predict(X))\n",
    "# print(f\"MAE on train set: {np.round(y_train_mae, 4)}\")\n",
    "# print(f\"baseline MAE on train set: {np.round(mean_absolute_error(y, X['Close_1min_before']), 4)}\")"
   ]
  },
  {
   "cell_type": "code",
   "execution_count": null,
   "metadata": {},
   "outputs": [],
   "source": [
    "import matplotlib.pyplot as plt"
   ]
  },
  {
   "cell_type": "code",
   "execution_count": null,
   "metadata": {},
   "outputs": [
    {
     "data": {
      "text/plain": [
       "<matplotlib.collections.PathCollection at 0x2acf06dfa60>"
      ]
     },
     "execution_count": 129,
     "metadata": {},
     "output_type": "execute_result"
    },
    {
     "data": {
      "image/png": "[encoded data removed]",
      "text/plain": [
       "<Figure size 640x480 with 1 Axes>"
      ]
     },
     "metadata": {},
     "output_type": "display_data"
    }
   ],
   "source": [
    "# plt.hist(np.abs((y -X['Close_1min_before']).to_numpy()), bins=100)\n",
    "plt.scatter(np.abs((y -X['Close_1min_before']).to_numpy()), np.abs((y -X['Close_1min_before']).to_numpy()))"
   ]
  },
  {
   "cell_type": "code",
   "execution_count": null,
   "metadata": {},
   "outputs": [
    {
     "data": {
      "text/plain": [
       "20.389999999999418"
      ]
     },
     "execution_count": 134,
     "metadata": {},
     "output_type": "execute_result"
    }
   ],
   "source": [
    "np.percentile(np.abs((y -X['Close_1min_before'])), 90)"
   ]
  },
  {
   "cell_type": "code",
   "execution_count": null,
   "metadata": {},
   "outputs": [
    {
     "data": {
      "text/plain": [
       "13.450000000000728"
      ]
     },
     "execution_count": 146,
     "metadata": {},
     "output_type": "execute_result"
    }
   ],
   "source": [
    "np.percentile(np.abs((y_train -X_train['Close_1min_before'])), 80)"
   ]
  },
  {
   "cell_type": "code",
   "execution_count": null,
   "metadata": {},
   "outputs": [],
   "source": [
    "mask_filtered_X = np.abs(y_train -X_train['Close_1min_before']) < np.percentile(np.abs((y_train -X_train['Close_1min_before'])), 80)"
   ]
  },
  {
   "cell_type": "code",
   "execution_count": null,
   "metadata": {},
   "outputs": [],
   "source": [
    "X_filtered, y_filtered = X_train[mask_filtered_X], y_train[mask_filtered_X]"
   ]
  },
  {
   "cell_type": "code",
   "execution_count": null,
   "metadata": {},
   "outputs": [
    {
     "name": "stdout",
     "output_type": "stream",
     "text": [
      "-----Predicting with the reduced set model-----------\n",
      "MAE on validation set: 8.5923\n",
      "baseline MAE on validation set: 8.5815\n",
      "baseline2 MAE on validation set: 8.5814\n",
      "MAE on train set: 4.4498\n",
      "baseline MAE on train set: 4.4427\n",
      "baseline2 MAE on train set: 4.4426\n"
     ]
    }
   ],
   "source": [
    "linear_model = Ridge()\n",
    "linear_model.fit(X_filtered, #[summary['selected_features_names']],  # \n",
    "                y_filtered) # [summary['selected_features_names']]\n",
    "\n",
    "print(\"-----Predicting with the reduced set model-----------\")\n",
    "y_val_pred = linear_model.predict(X_val) # [summary['selected_features_names']]\n",
    "y_val_mae = mean_absolute_error(y_val, y_val_pred)\n",
    "print(f\"MAE on validation set: {np.round(y_val_mae, 4)}\")\n",
    "print(f\"baseline MAE on validation set: {np.round(mean_absolute_error(y_val, X_val['Close_1min_before']), 4)}\")\n",
    "print(f\"baseline2 MAE on validation set: {np.round(mean_absolute_error(y_val, 0.5 * (X_val['Close_1min_before'] + X_val['Open'])), 4)}\")\n",
    "\n",
    "y_train_mae = mean_absolute_error(y_filtered, linear_model.predict(X_filtered))\n",
    "print(f\"MAE on train set: {np.round(y_train_mae, 4)}\")\n",
    "print(f\"baseline MAE on train set: {np.round(mean_absolute_error(y_filtered, X_filtered['Close_1min_before']), 4)}\")\n",
    "print(f\"baseline2 MAE on train set: {np.round(mean_absolute_error(y_filtered, 0.5 * (X_filtered['Close_1min_before'] + X_filtered['Open'])), 4)}\")"
   ]
  },
  {
   "cell_type": "code",
   "execution_count": null,
   "metadata": {},
   "outputs": [
    {
     "data": {
      "text/plain": [
       "array([ 1.70222287e-01, -3.83082507e-02,  5.33910577e-03,  3.03697961e-03,\n",
       "        8.18399004e-01, -1.98564982e-05,  1.75468642e-02, -4.10890071e-03,\n",
       "       -1.79073108e-03,  3.37835408e-02,  2.83947262e-04,  6.42028990e-02,\n",
       "       -9.77925739e-03, -5.22109826e-03, -4.52165686e-03,  4.66188921e-04,\n",
       "        5.32287315e-02,  2.91560534e-04, -3.72007478e-04, -5.73121957e-02,\n",
       "       -3.08058762e-04,  9.96471636e-03, -2.71538439e-03, -9.92899480e-03,\n",
       "       -4.19498935e-02, -4.28443951e-04])"
      ]
     },
     "execution_count": 152,
     "metadata": {},
     "output_type": "execute_result"
    }
   ],
   "source": [
    "linear_model.coef_"
   ]
  },
  {
   "cell_type": "code",
   "execution_count": null,
   "metadata": {},
   "outputs": [],
   "source": []
  }
 ],
 "metadata": {
  "kernelspec": {
   "display_name": ".venv",
   "language": "python",
   "name": "python3"
  },
  "language_info": {
   "codemirror_mode": {
    "name": "ipython",
    "version": 3
   },
   "file_extension": ".py",
   "mimetype": "text/x-python",
   "name": "python",
   "nbconvert_exporter": "python",
   "pygments_lexer": "ipython3",
   "version": "3.10.0"
  }
 },
 "nbformat": 4,
 "nbformat_minor": 2
}
